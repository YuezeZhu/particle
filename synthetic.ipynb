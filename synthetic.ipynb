{
 "cells": [
  {
   "cell_type": "markdown",
   "id": "5a88ef49",
   "metadata": {},
   "source": [
    "# Particle Guidance synthetic experiments\n",
    "\n",
    "We thank Bowen Jing for providing some of the code for the diffusion and distribution plotting.\n",
    "\n",
    "## Definition of distribution and its score"
   ]
  },
  {
   "cell_type": "code",
   "execution_count": 2,
   "id": "ab3c47fa",
   "metadata": {},
   "outputs": [
    {
     "ename": "ModuleNotFoundError",
     "evalue": "No module named 'matplotlib'",
     "output_type": "error",
     "traceback": [
      "\u001b[1;31m---------------------------------------------------------------------------\u001b[0m",
      "\u001b[1;31mModuleNotFoundError\u001b[0m                       Traceback (most recent call last)",
      "Cell \u001b[1;32mIn[2], line 2\u001b[0m\n\u001b[0;32m      1\u001b[0m \u001b[38;5;28;01mimport\u001b[39;00m \u001b[38;5;21;01mnumpy\u001b[39;00m \u001b[38;5;28;01mas\u001b[39;00m \u001b[38;5;21;01mnp\u001b[39;00m\n\u001b[1;32m----> 2\u001b[0m \u001b[38;5;28;01mimport\u001b[39;00m \u001b[38;5;21;01mmatplotlib\u001b[39;00m\u001b[38;5;21;01m.\u001b[39;00m\u001b[38;5;21;01mpyplot\u001b[39;00m \u001b[38;5;28;01mas\u001b[39;00m \u001b[38;5;21;01mplt\u001b[39;00m\n\u001b[0;32m      3\u001b[0m \u001b[38;5;28;01mimport\u001b[39;00m \u001b[38;5;21;01mseaborn\u001b[39;00m \u001b[38;5;28;01mas\u001b[39;00m \u001b[38;5;21;01msns\u001b[39;00m\n\u001b[0;32m      4\u001b[0m \u001b[38;5;28;01mimport\u001b[39;00m \u001b[38;5;21;01mrandom\u001b[39;00m\n",
      "\u001b[1;31mModuleNotFoundError\u001b[0m: No module named 'matplotlib'"
     ]
    }
   ],
   "source": [
    "import numpy as np\n",
    "import matplotlib.pyplot as plt\n",
    "import seaborn as sns\n",
    "import random"
   ]
  },
  {
   "cell_type": "code",
   "execution_count": 3,
   "id": "3bc8c646",
   "metadata": {},
   "outputs": [],
   "source": [
    "N = 10\n",
    "thetas = np.arange(N) * 2 * np.pi / N\n",
    "cx = np.cos(thetas)\n",
    "cy = np.sin(thetas)"
   ]
  },
  {
   "cell_type": "code",
   "execution_count": 4,
   "id": "c9cd1c1a",
   "metadata": {},
   "outputs": [],
   "source": [
    "sigma2 = 0.005\n",
    "def sample():\n",
    "    i = random.randint(0, N-1)\n",
    "    s = np.random.multivariate_normal((cx[i], cy[i]), cov=[[sigma2, 0], [0, sigma2]])\n",
    "    return s"
   ]
  },
  {
   "cell_type": "code",
   "execution_count": 4,
   "id": "771c821a",
   "metadata": {},
   "outputs": [],
   "source": [
    "samples = np.asarray([sample() for _ in range(100000)])"
   ]
  },
  {
   "cell_type": "code",
   "execution_count": 25,
   "id": "42b71915",
   "metadata": {},
   "outputs": [
    {
     "data": {
      "image/png": "[encoded data removed]",
      "text/plain": [
       "<Figure size 504x432 with 1 Axes>"
      ]
     },
     "metadata": {
      "needs_background": "light"
     },
     "output_type": "display_data"
    }
   ],
   "source": [
    "sns.kdeplot(x=samples[:, 0], y=samples[:, 1], cmap=\"Reds\", shade=True, bw_adjust=.5)\n",
    "plt.show()"
   ]
  },
  {
   "cell_type": "code",
   "execution_count": 5,
   "id": "b4ed98be",
   "metadata": {},
   "outputs": [
    {
     "data": {
      "text/plain": [
       "array([ 0.07365016, -0.60970014])"
      ]
     },
     "execution_count": 5,
     "metadata": {},
     "output_type": "execute_result"
    }
   ],
   "source": [
    "import torch\n",
    "\n",
    "def gmm(centers, X, Y, var):\n",
    "    ims = [\n",
    "        np.exp(-((X - x) ** 2 + (Y - y) ** 2) / var) / np.sqrt(var) for x, y in centers\n",
    "    ]\n",
    "    return sum(ims)\n",
    "\n",
    "\n",
    "def score(centers, X, Y, var):\n",
    "    weights = np.asarray([np.exp(-((X - x) ** 2 + (Y - y) ** 2) / (2 * var)) for x, y in centers])\n",
    "    weights = np.array(weights) / np.sum(weights, axis=0, keepdims=True)\n",
    "    scores = np.asarray([[X - x, Y - y] for x, y in centers])\n",
    "    return -np.sum(np.expand_dims(weights, axis=1) * scores, axis=0) / var\n",
    "\n",
    "\n",
    "score([(x,y) for x,y in zip(cx,cy)], 0.1, 1, 0.1)"
   ]
  },
  {
   "cell_type": "code",
   "execution_count": null,
   "id": "70daa514",
   "metadata": {
    "scrolled": true
   },
   "outputs": [],
   "source": [
    "def figure_func(i, l_samples, save_name=None):\n",
    "    samples = l_samples[i]\n",
    "    tmp_sigma2 = sigma2 + (t_schedule[-1-i] if i<len(t_schedule) else 0)\n",
    "\n",
    "    fig, ax = plt.subplots(1, figsize=(3, 3), dpi=150)\n",
    "    x = np.linspace(-1.5, 1.5, 100)\n",
    "    y = np.linspace(-1.5, 1.5, 100)\n",
    "\n",
    "    x, y = np.meshgrid(x, y)\n",
    "    im = gmm(centers, x, y, tmp_sigma2)\n",
    "    ax.imshow(im, vmin=0, cmap='Reds', extent=[-1.5, 1.5, 1.5, -1.5])\n",
    "    ax.set_xticks([])\n",
    "    ax.set_yticks([])\n",
    "    \n",
    "    ax.scatter(samples[:, 0], samples[:,1], c=\"blue\", marker='X', s=40, edgecolors=\"white\", linewidths=0.5 )\n",
    "    \n",
    "    ax.set_xlim(-1.5, 1.5)\n",
    "    ax.set_ylim(-1.5, 1.5)\n",
    "    \n",
    "    if save_name is not None:\n",
    "        plt.savefig(save_name)\n",
    "    return fig"
   ]
  },
  {
   "cell_type": "markdown",
   "id": "a6900e8a",
   "metadata": {},
   "source": [
    "## Euclidean kernel particle guidance"
   ]
  },
  {
   "cell_type": "code",
   "execution_count": 153,
   "id": "297dcbc5",
   "metadata": {
    "scrolled": true
   },
   "outputs": [
    {
     "data": {
      "image/png": "[encoded data removed]",
      "text/plain": [
       "<Figure size 450x450 with 1 Axes>"
      ]
     },
     "execution_count": 153,
     "metadata": {},
     "output_type": "execute_result"
    },
    {
     "data": {
      "image/png": "[encoded data removed]",
      "text/plain": [
       "<Figure size 450x450 with 1 Axes>"
      ]
     },
     "metadata": {},
     "output_type": "display_data"
    }
   ],
   "source": [
    "centers = np.asarray([(x,y) for x,y in zip(cx,cy)])\n",
    "kernel_size = 0.1\n",
    "svgd_repulsive_weight = 1\n",
    "svgd_score_weight = 2\n",
    "\n",
    "def particle_reverse_diffusion(N, steps=1000, max_sigma2=1, min_sigma2=0.001, \n",
    "                               svgd_score_weight=1, svgd_repulsive_weight=1, kernel_size=0.001, noise_weight=1):\n",
    "    t_schedule = np.exp(np.linspace(np.log(min_sigma2), np.log(max_sigma2), steps))\n",
    "    x = np.random.normal(0, np.sqrt(max_sigma2), (N, 2))\n",
    "    list_samples = [x]\n",
    "    \n",
    "    for i in range(steps, 0, -1):\n",
    "        var = t_schedule[i-1]\n",
    "        d_sigma2 = t_schedule[i-1] - t_schedule[i-2] if i > 1 else t_schedule[i-1]\n",
    "        score_x = score(centers, x[:, 0], x[:, 1], t_schedule[i-1] + sigma2).T\n",
    "        \n",
    "        diff = x[:, None] - x[None, :]\n",
    "        d2_matrix = np.sum(diff*diff, axis=-1)\n",
    "        #print(d2_matrix.shape)\n",
    "        med2 = np.median(d2_matrix, axis=1, keepdims=True)[0]\n",
    "        h = np.sqrt(var) #* med2 / max(np.log(N), 1)\n",
    "        k = np.expand_dims(np.exp(-1 / h * d2_matrix), axis=-1)\n",
    "        repulsive = np.sum(2 / h * diff * k, axis=1) / N #/ np.sqrt(var)\n",
    "        z = np.random.normal(0, 1, (N,2))\n",
    "        perturb_x = d_sigma2 * (svgd_score_weight * score_x + svgd_repulsive_weight * repulsive) + noise_weight * np.sqrt(d_sigma2) * z\n",
    "        #print(score_x, repulsive)\n",
    "        x = x + perturb_x\n",
    "        list_samples.append(x)\n",
    "        #print(x)\n",
    "    \n",
    "    return list_samples, t_schedule\n",
    "\n",
    "steps = 200\n",
    "particle_list_samples, t_schedule = particle_reverse_diffusion(10, steps, svgd_score_weight=1, svgd_repulsive_weight=10, kernel_size=0.001, noise_weight=1)\n",
    "figure_func(-1, particle_list_samples)\n",
    "#count_different_centers_wrap(svgd_score_weight=1, svgd_repulsive_weight=100, kernel_size=0.001, noise_weight=0.1, num=100)"
   ]
  },
  {
   "cell_type": "code",
   "execution_count": 66,
   "id": "a5110e98",
   "metadata": {},
   "outputs": [
    {
     "data": {
      "text/plain": [
       "6"
      ]
     },
     "execution_count": 66,
     "metadata": {},
     "output_type": "execute_result"
    }
   ],
   "source": [
    "def count_different_centers(x, centers):\n",
    "    d = x[:, None] - centers[None, :]\n",
    "    distances = np.sum(d * d, axis=-1)\n",
    "    minimum = np.argmin(distances, axis=1)\n",
    "    sums = np.zeros(len(centers))\n",
    "    np.add.at(sums, minimum, 1)\n",
    "    return np.sum(sums>0)\n",
    "    \n",
    "count_different_centers(particle_list_samples[-1], np.asarray(centers))"
   ]
  },
  {
   "cell_type": "code",
   "execution_count": 67,
   "id": "f61c4fab",
   "metadata": {},
   "outputs": [],
   "source": [
    "def count_different_centers_wrap(svgd_score_weight=1, svgd_repulsive_weight=1, kernel_size=0.001, noise_weight=1, num=1):\n",
    "    vals = []\n",
    "    for i in range(num):\n",
    "        x = particle_reverse_diffusion(N=10, steps=200, svgd_score_weight=svgd_score_weight, \n",
    "                                       svgd_repulsive_weight=svgd_repulsive_weight, noise_weight=noise_weight, kernel_size=kernel_size)[0][-1]\n",
    "        v = count_different_centers(x, centers)\n",
    "        vals.append(v)\n",
    "    print(vals)\n",
    "    return sum(vals) / num"
   ]
  },
  {
   "cell_type": "code",
   "execution_count": 68,
   "id": "1fb84e5a",
   "metadata": {},
   "outputs": [
    {
     "name": "stdout",
     "output_type": "stream",
     "text": [
      "[7, 6, 5, 6, 7, 6, 7, 7, 6, 4]\n"
     ]
    },
    {
     "data": {
      "text/plain": [
       "6.1"
      ]
     },
     "execution_count": 68,
     "metadata": {},
     "output_type": "execute_result"
    }
   ],
   "source": [
    "count_different_centers_wrap(num=10)"
   ]
  },
  {
   "cell_type": "code",
   "execution_count": 54,
   "id": "02b92c17",
   "metadata": {},
   "outputs": [
    {
     "data": {
      "text/plain": [
       "(array([1.00000000e-02, 3.16227766e-02, 1.00000000e-01, 3.16227766e-01,\n",
       "        1.00000000e+00, 3.16227766e+00, 1.00000000e+01, 3.16227766e+01,\n",
       "        1.00000000e+02, 3.16227766e+02, 1.00000000e+03]),\n",
       " array([0.01      , 0.03162278, 0.1       , 0.31622777, 1.        ]))"
      ]
     },
     "execution_count": 54,
     "metadata": {},
     "output_type": "execute_result"
    }
   ],
   "source": [
    "possible_kernel = np.exp(np.linspace(np.log(0.01), np.log(1000), 11))\n",
    "possible_noise = np.exp(np.linspace(np.log(0.01), np.log(1), 5))\n",
    "possible_kernel, possible_noise"
   ]
  },
  {
   "cell_type": "code",
   "execution_count": 69,
   "id": "1c1521d3",
   "metadata": {
    "scrolled": true
   },
   "outputs": [
    {
     "name": "stderr",
     "output_type": "stream",
     "text": [
      "\r\n",
      "  0%|                                                    | 0/11 [00:00<?, ?it/s]"
     ]
    },
    {
     "name": "stdout",
     "output_type": "stream",
     "text": [
      "[6, 6, 7, 7, 5, 7, 7, 6, 7, 7, 6, 8, 7, 7, 7, 7, 7, 7, 5, 6, 5, 6, 7, 8, 5, 8, 6, 6, 6, 7, 6, 5, 7, 7, 7, 6, 8, 7, 8, 6, 7, 7, 7, 5, 6, 6, 6, 7, 7, 6, 8, 4, 7, 6, 6, 6, 8, 7, 6, 6, 7, 6, 7, 7, 7, 8, 7, 7, 7, 8, 6, 6, 7, 8, 6, 6, 7, 6, 6, 8, 5, 7, 7, 6, 7, 7, 6, 7, 6, 7, 8, 5, 7, 6, 6, 6, 6, 5, 7, 6]\n",
      "[6, 6, 8, 7, 7, 4, 6, 8, 7, 7, 7, 5, 6, 6, 6, 8, 7, 7, 6, 6, 7, 6, 8, 7, 7, 5, 5, 6, 7, 7, 5, 7, 6, 5, 7, 5, 8, 6, 7, 6, 6, 7, 8, 6, 7, 6, 6, 7, 7, 7, 7, 7, 6, 6, 5, 5, 8, 7, 6, 7, 6, 8, 6, 5, 7, 6, 8, 5, 7, 8, 7, 8, 5, 8, 6, 5, 6, 6, 8, 6, 6, 7, 8, 8, 6, 7, 8, 8, 5, 9, 6, 6, 6, 5, 8, 7, 6, 8, 5, 7]\n",
      "[6, 6, 7, 6, 6, 8, 6, 4, 6, 6, 7, 6, 5, 7, 8, 6, 8, 6, 7, 6, 7, 6, 7, 6, 6, 5, 5, 8, 7, 5, 6, 7, 6, 8, 6, 6, 8, 7, 5, 8, 7, 7, 5, 8, 7, 6, 6, 5, 7, 6, 6, 6, 6, 7, 5, 6, 7, 8, 8, 8, 6, 5, 5, 5, 6, 7, 5, 6, 7, 5, 7, 8, 8, 7, 6, 4, 8, 6, 7, 6, 6, 6, 5, 6, 7, 7, 7, 5, 6, 9, 7, 8, 8, 5, 7, 8, 6, 4, 7, 7]\n",
      "[6, 6, 6, 7, 6, 8, 4, 8, 6, 6, 7, 8, 7, 7, 7, 6, 7, 6, 8, 7, 7, 7, 6, 6, 8, 6, 7, 7, 7, 6, 8, 6, 6, 6, 5, 5, 6, 9, 9, 6, 7, 8, 6, 7, 5, 7, 7, 6, 7, 8, 7, 4, 5, 7, 7, 6, 7, 7, 6, 4, 6, 6, 7, 4, 8, 7, 7, 7, 4, 7, 6, 7, 6, 7, 7, 6, 6, 7, 7, 5, 5, 7, 7, 7, 4, 7, 7, 6, 7, 6, 7, 5, 6, 7, 5, 6, 7, 6, 7, 8]\n"
     ]
    },
    {
     "name": "stderr",
     "output_type": "stream",
     "text": [
      "\r\n",
      "  9%|████                                        | 1/11 [00:28<04:48, 28.89s/it]"
     ]
    },
    {
     "name": "stdout",
     "output_type": "stream",
     "text": [
      "[6, 6, 7, 7, 6, 6, 5, 6, 7, 8, 8, 6, 5, 8, 9, 7, 7, 5, 7, 6, 5, 5, 6, 6, 5, 7, 8, 6, 8, 5, 5, 6, 8, 6, 6, 7, 7, 7, 6, 5, 4, 7, 7, 5, 7, 6, 7, 5, 6, 5, 6, 8, 8, 6, 8, 6, 6, 8, 5, 7, 5, 6, 6, 6, 6, 8, 8, 8, 6, 6, 7, 7, 6, 8, 7, 6, 6, 5, 8, 6, 6, 6, 7, 6, 6, 6, 6, 6, 7, 7, 5, 5, 8, 5, 6, 6, 7, 6, 5, 7]\n",
      "[7, 6, 8, 5, 6, 8, 7, 8, 7, 6, 6, 6, 6, 5, 7, 7, 5, 9, 8, 6, 9, 7, 7, 7, 5, 7, 8, 5, 8, 6, 8, 7, 8, 7, 5, 8, 7, 7, 5, 6, 7, 7, 6, 7, 6, 8, 7, 5, 6, 5, 6, 5, 8, 7, 7, 8, 7, 7, 8, 6, 8, 6, 7, 6, 7, 8, 6, 7, 5, 6, 7, 8, 7, 6, 7, 8, 8, 7, 6, 5, 6, 5, 8, 6, 6, 6, 6, 6, 6, 7, 7, 5, 8, 7, 6, 6, 7, 6, 5, 5]\n",
      "[8, 6, 8, 5, 8, 5, 6, 6, 6, 7, 5, 7, 6, 8, 7, 5, 7, 7, 5, 6, 8, 7, 8, 6, 5, 8, 7, 7, 6, 5, 7, 7, 5, 7, 7, 5, 7, 5, 5, 7, 8, 6, 8, 8, 5, 7, 6, 9, 6, 6, 5, 5, 5, 7, 7, 7, 8, 7, 5, 6, 5, 7, 7, 5, 6, 5, 5, 9, 6, 7, 7, 8, 6, 7, 6, 7, 6, 7, 7, 7, 5, 7, 6, 5, 7, 9, 5, 6, 7, 7, 6, 7, 6, 7, 7, 9, 7, 8, 7, 7]\n",
      "[7, 8, 7, 6, 7, 6, 9, 7, 5, 6, 6, 7, 5, 7, 6, 8, 6, 7, 8, 6, 6, 6, 6, 6, 8, 7, 4, 8, 8, 6, 7, 6, 6, 7, 6, 8, 5, 8, 6, 7, 7, 9, 5, 5, 7, 7, 6, 6, 6, 7, 6, 5, 6, 9, 7, 9, 7, 7, 6, 7, 8, 7, 5, 7, 5, 7, 7, 7, 6, 7, 8, 7, 6, 6, 6, 4, 6, 9, 7, 7, 8, 5, 6, 7, 7, 8, 6, 7, 7, 6, 6, 6, 7, 7, 7, 6, 8, 7, 7, 7]\n",
      "[5, 7, 6, 5, 7, 7, 8, 7, 7, 5, 6, 8, 7, 7, 8, 7, 6, 7, 5, 5, 8, 6, 7, 8, 8, 6, 6, 6, 5, 6, 5, 7, 5, 7, 6, 6, 5, 7, 7, 6, 5, 8, 6, 6, 6, 6, 8, 7, 8, 5, 7, 7, 7, 6, 7, 8, 8, 7, 5, 7, 6, 8, 7, 6, 8, 5, 5, 7, 5, 8, 7, 7, 8, 7, 7, 9, 6, 6, 8, 7, 7, 6, 6, 7, 8, 5, 6, 8, 5, 6, 7, 7, 7, 8, 6, 7, 7, 5, 5, 7]\n"
     ]
    },
    {
     "name": "stderr",
     "output_type": "stream",
     "text": [
      "\r\n",
      " 18%|████████                                    | 2/11 [00:57<04:20, 28.89s/it]"
     ]
    },
    {
     "name": "stdout",
     "output_type": "stream",
     "text": [
      "[6, 6, 8, 7, 7, 6, 7, 6, 6, 8, 7, 6, 7, 7, 7, 8, 7, 7, 7, 6, 6, 7, 7, 8, 8, 6, 8, 8, 6, 6, 5, 8, 8, 5, 6, 5, 7, 5, 7, 7, 6, 8, 4, 6, 7, 7, 7, 6, 6, 8, 7, 5, 7, 6, 6, 7, 6, 7, 5, 6, 6, 6, 5, 5, 5, 5, 8, 6, 5, 6, 6, 7, 8, 7, 7, 7, 7, 8, 6, 7, 5, 7, 8, 5, 7, 9, 5, 7, 6, 5, 5, 8, 6, 7, 6, 8, 6, 6, 6, 7]\n",
      "[6, 5, 6, 9, 7, 7, 7, 7, 7, 5, 5, 8, 6, 5, 6, 6, 7, 7, 7, 7, 7, 7, 7, 6, 7, 7, 5, 5, 7, 7, 6, 6, 6, 7, 7, 7, 7, 6, 6, 7, 7, 4, 6, 8, 6, 7, 7, 6, 7, 8, 7, 5, 6, 6, 7, 6, 6, 6, 7, 6, 6, 8, 5, 6, 8, 6, 8, 7, 7, 8, 6, 8, 7, 4, 6, 6, 6, 6, 6, 5, 8, 7, 8, 6, 6, 6, 6, 7, 6, 6, 7, 7, 9, 6, 5, 7, 7, 7, 7, 6]\n",
      "[7, 8, 6, 6, 8, 7, 7, 7, 7, 7, 5, 7, 7, 6, 6, 6, 5, 5, 5, 5, 7, 7, 7, 7, 7, 7, 7, 5, 8, 5, 7, 7, 7, 6, 6, 7, 7, 7, 5, 5, 5, 6, 6, 8, 6, 7, 5, 6, 7, 7, 6, 9, 6, 5, 5, 6, 4, 6, 7, 7, 8, 4, 7, 7, 5, 7, 6, 6, 7, 5, 7, 8, 7, 6, 8, 7, 6, 6, 7, 6, 6, 6, 8, 6, 6, 7, 6, 6, 7, 6, 6, 7, 5, 6, 7, 8, 7, 7, 6, 6]\n",
      "[7, 8, 7, 6, 7, 7, 5, 8, 6, 7, 7, 6, 6, 7, 7, 7, 7, 6, 7, 7, 8, 7, 6, 6, 6, 7, 8, 5, 8, 8, 6, 6, 5, 6, 6, 7, 6, 5, 8, 7, 7, 4, 5, 6, 6, 6, 7, 7, 7, 7, 7, 6, 7, 7, 6, 5, 6, 5, 5, 8, 7, 7, 8, 9, 6, 6, 7, 7, 7, 7, 7, 7, 6, 6, 4, 6, 7, 8, 7, 6, 7, 4, 7, 7, 7, 6, 7, 7, 8, 6, 7, 7, 7, 8, 5, 6, 6, 6, 7, 6]\n",
      "[8, 6, 6, 7, 6, 6, 7, 7, 6, 7, 6, 6, 6, 7, 6, 7, 8, 6, 7, 6, 6, 8, 5, 7, 7, 7, 6, 7, 8, 7, 4, 7, 6, 8, 7, 8, 7, 6, 6, 7, 6, 8, 6, 7, 5, 6, 7, 6, 8, 6, 6, 7, 6, 7, 6, 7, 7, 7, 8, 6, 8, 8, 6, 6, 7, 7, 6, 6, 7, 6, 7, 8, 4, 7, 6, 7, 7, 7, 8, 5, 5, 7, 7, 6, 7, 8, 7, 8, 6, 8, 6, 7, 7, 4, 5, 6, 5, 6, 8, 6]\n"
     ]
    },
    {
     "name": "stderr",
     "output_type": "stream",
     "text": [
      "\r\n",
      " 27%|████████████                                | 3/11 [01:26<03:51, 28.88s/it]"
     ]
    },
    {
     "name": "stdout",
     "output_type": "stream",
     "text": [
      "[7, 7, 6, 6, 7, 7, 6, 7, 8, 8, 6, 6, 7, 7, 7, 7, 7, 6, 8, 8, 9, 5, 6, 8, 8, 7, 7, 7, 7, 7, 7, 7, 7, 7, 7, 5, 6, 7, 7, 7, 6, 7, 8, 5, 7, 8, 7, 7, 9, 9, 6, 8, 6, 7, 4, 6, 7, 6, 7, 6, 7, 8, 6, 6, 7, 7, 7, 7, 5, 5, 6, 8, 7, 6, 7, 6, 7, 8, 7, 8, 6, 7, 6, 5, 6, 6, 7, 6, 6, 7, 8, 8, 6, 6, 7, 7, 7, 7, 6, 8]\n",
      "[9, 8, 5, 6, 8, 7, 6, 8, 6, 7, 7, 4, 7, 8, 7, 6, 6, 6, 8, 8, 6, 8, 7, 6, 8, 7, 6, 9, 7, 8, 7, 7, 7, 7, 6, 8, 7, 6, 8, 6, 7, 7, 7, 6, 8, 6, 7, 6, 6, 6, 5, 7, 9, 8, 6, 7, 7, 7, 7, 6, 7, 8, 5, 8, 8, 5, 5, 8, 7, 5, 6, 6, 9, 7, 6, 6, 6, 6, 9, 7, 6, 7, 8, 8, 6, 6, 9, 7, 7, 6, 6, 7, 7, 6, 6, 6, 7, 7, 7, 5]\n",
      "[7, 7, 7, 4, 6, 7, 8, 7, 7, 5, 7, 7, 7, 6, 8, 6, 8, 7, 6, 6, 7, 7, 5, 6, 6, 6, 8, 4, 6, 6, 5, 8, 7, 8, 6, 7, 5, 7, 9, 6, 8, 7, 9, 7, 9, 6, 7, 5, 8, 7, 7, 9, 7, 9, 5, 7, 7, 6, 8, 5, 8, 8, 6, 7, 8, 7, 7, 6, 8, 7, 7, 8, 7, 7, 6, 7, 7, 7, 8, 6, 7, 7, 8, 7, 6, 8, 5, 6, 7, 5, 6, 8, 5, 7, 8, 6, 7, 9, 7, 6]\n",
      "[7, 8, 6, 7, 7, 5, 7, 6, 5, 5, 8, 6, 7, 6, 7, 6, 7, 6, 7, 6, 6, 6, 6, 5, 8, 7, 7, 4, 8, 7, 6, 6, 7, 7, 7, 4, 6, 6, 7, 6, 5, 5, 8, 8, 7, 7, 7, 7, 6, 7, 5, 9, 8, 5, 6, 6, 7, 7, 8, 8, 8, 7, 6, 6, 7, 7, 7, 6, 6, 8, 6, 8, 7, 7, 5, 6, 5, 7, 6, 6, 7, 8, 7, 6, 6, 6, 8, 7, 7, 6, 7, 5, 7, 6, 6, 6, 5, 8, 6, 9]\n",
      "[5, 7, 8, 6, 7, 7, 6, 7, 8, 6, 7, 6, 8, 6, 7, 8, 7, 5, 7, 6, 8, 7, 7, 7, 7, 5, 8, 5, 6, 6, 6, 5, 7, 6, 6, 5, 7, 8, 7, 5, 8, 7, 6, 4, 8, 7, 8, 7, 6, 7, 8, 8, 7, 9, 7, 6, 6, 6, 6, 6, 7, 6, 6, 6, 7, 7, 7, 6, 6, 4, 8, 6, 8, 8, 5, 5, 7, 6, 7, 8, 6, 6, 7, 8, 6, 8, 8, 7, 7, 8, 6, 7, 7, 5, 6, 7, 7, 7, 8, 8]\n"
     ]
    },
    {
     "name": "stderr",
     "output_type": "stream",
     "text": [
      "\r\n",
      " 36%|████████████████                            | 4/11 [01:55<03:22, 28.94s/it]"
     ]
    },
    {
     "name": "stdout",
     "output_type": "stream",
     "text": [
      "[6, 7, 8, 6, 6, 8, 6, 8, 7, 8, 7, 5, 7, 7, 6, 6, 7, 7, 7, 6, 6, 7, 8, 8, 6, 8, 7, 9, 7, 7, 7, 6, 7, 5, 8, 5, 6, 7, 6, 7, 5, 5, 8, 7, 7, 5, 7, 7, 7, 6, 7, 5, 7, 4, 7, 7, 6, 5, 7, 7, 6, 6, 8, 6, 8, 7, 6, 5, 8, 9, 8, 6, 7, 6, 8, 8, 5, 7, 6, 6, 6, 7, 6, 6, 7, 6, 6, 6, 5, 6, 7, 7, 8, 6, 7, 5, 6, 8, 6, 8]\n",
      "[8, 7, 8, 8, 6, 6, 6, 7, 6, 9, 7, 7, 8, 7, 8, 7, 9, 7, 9, 6, 6, 7, 8, 7, 6, 7, 7, 5, 6, 7, 5, 5, 9, 7, 8, 9, 8, 8, 6, 7, 8, 7, 7, 6, 7, 8, 8, 7, 8, 5, 8, 7, 8, 6, 6, 6, 8, 7, 7, 7, 8, 6, 6, 7, 6, 9, 7, 6, 8, 8, 7, 8, 5, 6, 7, 7, 8, 8, 7, 8, 8, 8, 7, 8, 8, 9, 7, 7, 8, 7, 7, 9, 7, 8, 7, 7, 8, 7, 6, 7]\n",
      "[7, 7, 7, 6, 7, 7, 8, 7, 8, 6, 9, 6, 6, 7, 5, 7, 8, 7, 7, 7, 7, 8, 6, 7, 9, 7, 8, 6, 7, 6, 7, 7, 7, 8, 7, 7, 6, 7, 6, 5, 7, 8, 7, 6, 6, 7, 7, 8, 9, 8, 7, 7, 8, 7, 6, 6, 7, 7, 8, 8, 8, 8, 8, 6, 8, 9, 7, 7, 6, 8, 7, 7, 8, 7, 7, 7, 6, 7, 6, 7, 6, 8, 7, 7, 7, 7, 8, 9, 6, 9, 6, 7, 6, 7, 6, 9, 8, 7, 8, 8]\n",
      "[7, 6, 8, 8, 9, 8, 9, 7, 6, 8, 7, 9, 5, 8, 6, 6, 7, 8, 7, 7, 7, 7, 8, 8, 8, 7, 8, 6, 7, 7, 7, 7, 5, 7, 9, 7, 5, 8, 8, 8, 7, 6, 7, 8, 7, 8, 7, 7, 6, 8, 6, 6, 7, 6, 7, 6, 6, 6, 7, 7, 7, 7, 8, 8, 6, 7, 6, 7, 8, 6, 6, 7, 7, 7, 7, 7, 7, 7, 9, 8, 8, 8, 6, 7, 8, 7, 7, 6, 7, 8, 7, 7, 7, 8, 8, 7, 8, 7, 7, 7]\n",
      "[9, 6, 5, 7, 6, 7, 8, 6, 6, 6, 6, 6, 7, 10, 9, 5, 6, 8, 6, 6, 8, 7, 8, 7, 8, 7, 7, 5, 7, 6, 7, 6, 6, 6, 7, 7, 6, 7, 6, 8, 7, 9, 6, 5, 7, 7, 8, 6, 7, 8, 5, 8, 7, 6, 6, 6, 7, 9, 9, 6, 8, 7, 7, 7, 8, 8, 8, 4, 6, 7, 6, 7, 7, 6, 7, 8, 7, 8, 8, 6, 7, 7, 5, 7, 6, 7, 8, 5, 6, 6, 8, 8, 7, 7, 7, 7, 7, 7, 7, 8]\n"
     ]
    },
    {
     "name": "stderr",
     "output_type": "stream",
     "text": [
      "\r\n",
      " 45%|████████████████████                        | 5/11 [02:24<02:53, 28.89s/it]"
     ]
    },
    {
     "name": "stdout",
     "output_type": "stream",
     "text": [
      "[7, 7, 7, 7, 6, 7, 8, 8, 8, 6, 5, 8, 8, 8, 6, 6, 8, 7, 7, 6, 6, 7, 8, 7, 6, 7, 6, 7, 8, 7, 5, 6, 6, 6, 6, 7, 8, 6, 7, 6, 6, 5, 6, 6, 7, 6, 5, 7, 5, 8, 7, 8, 6, 8, 7, 8, 7, 6, 6, 5, 5, 6, 6, 7, 7, 8, 5, 7, 7, 5, 8, 7, 7, 7, 7, 7, 6, 7, 6, 8, 8, 6, 8, 6, 7, 8, 6, 6, 6, 5, 6, 7, 5, 7, 6, 5, 5, 6, 6, 5]\n",
      "[8, 8, 8, 8, 9, 9, 8, 8, 8, 8, 9, 8, 8, 9, 8, 8, 8, 8, 7, 7, 7, 8, 8, 8, 7, 8, 7, 8, 8, 7, 8, 7, 8, 8, 7, 8, 7, 9, 8, 9, 8, 7, 8, 9, 8, 9, 8, 9, 6, 8, 8, 8, 8, 7, 7, 7, 8, 9, 7, 8, 8, 9, 8, 8, 8, 9, 9, 9, 8, 8, 7, 6, 7, 9, 7, 6, 8, 8, 7, 8, 8, 9, 8, 7, 8, 8, 8, 6, 9, 7, 7, 8, 8, 9, 8, 9, 9, 8, 8, 7]\n",
      "[8, 9, 7, 6, 8, 7, 7, 9, 8, 9, 7, 8, 6, 8, 9, 7, 8, 7, 8, 8, 7, 8, 8, 8, 8, 6, 8, 9, 8, 7, 8, 8, 9, 7, 8, 9, 9, 6, 8, 7, 7, 8, 9, 8, 9, 7, 10, 8, 7, 9, 8, 9, 9, 8, 8, 9, 8, 9, 8, 7, 9, 7, 9, 8, 8, 7, 9, 9, 6, 9, 7, 9, 8, 8, 8, 8, 7, 8, 8, 8, 7, 8, 8, 7, 7, 8, 9, 8, 7, 8, 9, 7, 7, 8, 9, 8, 8, 9, 9, 9]\n",
      "[9, 8, 8, 7, 7, 9, 8, 10, 9, 7, 8, 8, 8, 8, 8, 9, 6, 9, 7, 8, 7, 10, 7, 8, 6, 6, 7, 8, 9, 9, 8, 8, 8, 7, 8, 9, 9, 9, 7, 8, 8, 8, 7, 9, 9, 8, 7, 8, 8, 8, 7, 7, 9, 8, 8, 8, 8, 9, 9, 7, 9, 9, 8, 6, 9, 6, 7, 8, 7, 10, 7, 7, 9, 8, 8, 9, 8, 8, 8, 9, 6, 9, 7, 8, 9, 8, 9, 8, 9, 9, 7, 9, 8, 8, 7, 8, 9, 8, 8, 8]\n",
      "[7, 9, 7, 8, 7, 9, 8, 7, 7, 8, 10, 6, 7, 8, 7, 8, 9, 8, 8, 9, 8, 8, 9, 9, 7, 7, 8, 8, 8, 9, 8, 7, 8, 9, 8, 8, 9, 7, 8, 7, 8, 7, 7, 8, 7, 7, 8, 6, 8, 8, 7, 9, 7, 8, 7, 9, 8, 9, 7, 9, 8, 8, 7, 8, 6, 8, 8, 8, 8, 9, 8, 7, 9, 9, 5, 8, 8, 6, 9, 8, 7, 8, 8, 7, 8, 9, 7, 9, 8, 8, 8, 8, 7, 7, 7, 8, 7, 8, 7, 8]\n"
     ]
    },
    {
     "name": "stderr",
     "output_type": "stream",
     "text": [
      "\r\n",
      " 55%|████████████████████████                    | 6/11 [02:53<02:24, 28.86s/it]"
     ]
    },
    {
     "name": "stdout",
     "output_type": "stream",
     "text": [
      "[7, 7, 7, 6, 7, 6, 7, 10, 7, 7, 6, 4, 9, 7, 7, 8, 7, 8, 7, 6, 8, 8, 8, 6, 7, 8, 7, 8, 6, 6, 5, 7, 6, 7, 8, 9, 6, 8, 6, 7, 8, 8, 6, 8, 8, 8, 5, 6, 7, 7, 8, 6, 5, 6, 8, 7, 8, 7, 6, 5, 9, 7, 6, 6, 6, 6, 6, 8, 7, 7, 7, 7, 8, 6, 7, 7, 6, 6, 6, 8, 6, 7, 7, 4, 7, 8, 7, 8, 7, 5, 9, 8, 8, 7, 6, 7, 8, 7, 8, 5]\n",
      "[9, 9, 8, 9, 8, 9, 9, 9, 9, 10, 8, 8, 8, 8, 9, 9, 9, 7, 9, 7, 9, 8, 9, 9, 8, 8, 9, 9, 8, 8, 10, 9, 9, 9, 7, 9, 9, 10, 9, 8, 8, 9, 10, 8, 9, 8, 8, 8, 9, 8, 8, 10, 7, 9, 9, 7, 8, 8, 8, 9, 9, 8, 8, 9, 8, 8, 9, 8, 9, 8, 8, 9, 9, 8, 9, 8, 9, 8, 8, 9, 9, 8, 10, 9, 8, 9, 8, 9, 9, 8, 9, 9, 8, 10, 10, 9, 9, 8, 8, 8]\n",
      "[9, 10, 9, 9, 8, 9, 8, 9, 9, 8, 8, 9, 9, 8, 8, 8, 7, 9, 9, 9, 10, 10, 8, 9, 9, 9, 9, 8, 8, 9, 9, 8, 8, 9, 8, 9, 9, 8, 7, 9, 8, 7, 9, 8, 8, 8, 9, 7, 9, 9, 8, 8, 8, 8, 9, 9, 8, 9, 9, 8, 8, 9, 8, 8, 8, 9, 9, 8, 9, 9, 8, 9, 9, 9, 9, 8, 9, 8, 9, 9, 8, 9, 9, 9, 9, 8, 8, 9, 7, 8, 10, 9, 7, 8, 8, 9, 9, 8, 7, 9]\n",
      "[10, 8, 9, 9, 9, 9, 9, 8, 8, 9, 8, 8, 8, 9, 8, 8, 9, 7, 9, 9, 8, 10, 9, 9, 9, 8, 9, 9, 9, 9, 8, 9, 9, 9, 9, 8, 10, 9, 8, 9, 9, 9, 9, 7, 10, 8, 8, 9, 9, 9, 9, 10, 10, 8, 9, 9, 9, 8, 7, 8, 10, 8, 8, 10, 8, 9, 8, 9, 9, 8, 9, 8, 8, 10, 8, 8, 9, 9, 8, 9, 8, 8, 8, 8, 9, 9, 9, 9, 8, 8, 8, 8, 9, 7, 10, 8, 8, 8, 7, 8]\n",
      "[8, 9, 8, 8, 7, 9, 8, 9, 8, 8, 8, 9, 9, 9, 9, 9, 9, 8, 8, 9, 8, 8, 9, 8, 8, 8, 9, 9, 8, 9, 9, 9, 10, 9, 9, 9, 9, 9, 8, 7, 8, 9, 8, 9, 8, 8, 8, 8, 8, 9, 8, 8, 9, 9, 6, 9, 8, 8, 8, 7, 8, 8, 9, 9, 8, 8, 7, 9, 8, 7, 9, 10, 9, 7, 9, 8, 8, 9, 9, 9, 7, 9, 8, 8, 7, 8, 8, 8, 8, 9, 9, 7, 9, 8, 8, 9, 8, 7, 9, 9]\n"
     ]
    },
    {
     "name": "stderr",
     "output_type": "stream",
     "text": [
      "\r\n",
      " 64%|████████████████████████████                | 7/11 [03:21<01:55, 28.80s/it]"
     ]
    },
    {
     "name": "stdout",
     "output_type": "stream",
     "text": [
      "[7, 8, 8, 7, 9, 7, 7, 8, 8, 7, 8, 8, 8, 8, 8, 8, 9, 7, 7, 8, 8, 7, 7, 6, 7, 7, 7, 8, 7, 9, 8, 9, 9, 8, 7, 8, 6, 9, 7, 7, 8, 7, 8, 9, 8, 8, 7, 7, 8, 7, 7, 7, 8, 7, 7, 7, 10, 7, 9, 9, 9, 6, 6, 7, 8, 8, 8, 8, 7, 8, 8, 9, 6, 8, 8, 8, 7, 8, 7, 9, 7, 7, 8, 7, 9, 7, 9, 8, 8, 6, 8, 7, 7, 8, 6, 9, 7, 7, 8, 8]\n",
      "[9, 8, 8, 9, 9, 9, 9, 8, 7, 8, 8, 8, 8, 8, 8, 10, 8, 9, 7, 8, 10, 10, 9, 10, 8, 8, 9, 8, 8, 10, 8, 8, 9, 10, 8, 8, 9, 8, 9, 8, 9, 9, 8, 9, 8, 8, 8, 9, 9, 9, 10, 8, 9, 9, 9, 8, 8, 9, 8, 9, 9, 9, 8, 8, 9, 7, 8, 8, 8, 9, 9, 7, 9, 7, 7, 9, 8, 8, 8, 8, 9, 8, 9, 8, 9, 9, 8, 10, 8, 8, 10, 9, 9, 9, 9, 9, 10, 8, 9, 8]\n",
      "[9, 10, 9, 9, 9, 8, 9, 9, 9, 9, 9, 9, 9, 9, 9, 8, 9, 9, 8, 10, 9, 9, 8, 9, 10, 9, 9, 10, 8, 8, 8, 9, 8, 9, 9, 8, 8, 9, 7, 9, 9, 9, 8, 9, 9, 9, 10, 9, 9, 9, 8, 9, 9, 8, 9, 8, 9, 10, 8, 9, 9, 9, 8, 9, 8, 8, 9, 10, 10, 9, 8, 8, 10, 9, 9, 9, 8, 9, 9, 9, 9, 9, 10, 9, 10, 9, 9, 9, 8, 9, 8, 8, 9, 9, 9, 9, 10, 8, 10, 8]\n",
      "[9, 9, 9, 9, 9, 9, 9, 8, 9, 9, 9, 8, 9, 9, 10, 10, 8, 8, 8, 8, 8, 9, 10, 8, 8, 7, 9, 8, 8, 9, 10, 9, 10, 9, 8, 9, 8, 8, 8, 9, 9, 8, 8, 9, 8, 10, 9, 9, 8, 8, 9, 10, 8, 9, 10, 9, 8, 10, 9, 10, 10, 9, 8, 8, 9, 10, 9, 8, 10, 9, 10, 8, 10, 9, 9, 9, 8, 9, 8, 7, 8, 9, 9, 8, 9, 8, 9, 9, 7, 8, 9, 9, 9, 9, 9, 9, 8, 9, 8, 9]\n",
      "[9, 9, 10, 9, 8, 8, 7, 9, 9, 9, 9, 9, 9, 9, 8, 9, 9, 10, 9, 9, 9, 9, 8, 9, 9, 8, 8, 10, 9, 9, 8, 9, 9, 8, 10, 10, 9, 10, 9, 9, 9, 9, 8, 10, 8, 8, 9, 8, 9, 8, 9, 9, 9, 8, 9, 9, 8, 9, 9, 8, 9, 8, 8, 8, 9, 8, 8, 9, 10, 9, 9, 8, 8, 8, 10, 9, 9, 9, 9, 8, 10, 8, 9, 9, 9, 8, 8, 10, 9, 9, 9, 9, 8, 8, 9, 10, 9, 9, 8, 9]\n"
     ]
    },
    {
     "name": "stderr",
     "output_type": "stream",
     "text": [
      "\r\n",
      " 73%|████████████████████████████████            | 8/11 [03:50<01:26, 28.74s/it]"
     ]
    },
    {
     "name": "stdout",
     "output_type": "stream",
     "text": [
      "[8, 7, 8, 8, 8, 8, 9, 8, 10, 9, 9, 9, 8, 9, 7, 9, 9, 9, 8, 7, 8, 9, 8, 9, 8, 7, 7, 8, 8, 9, 8, 7, 7, 9, 8, 9, 7, 9, 7, 10, 9, 9, 7, 9, 9, 9, 8, 7, 8, 8, 10, 9, 8, 8, 8, 9, 8, 8, 9, 8, 9, 9, 7, 8, 8, 9, 8, 9, 8, 7, 9, 7, 8, 7, 8, 7, 7, 8, 7, 7, 7, 9, 8, 9, 7, 9, 9, 8, 7, 7, 7, 8, 8, 8, 9, 9, 8, 8, 8, 8]\n",
      "[8, 9, 9, 9, 9, 9, 10, 7, 7, 9, 9, 9, 10, 9, 9, 9, 9, 9, 9, 10, 10, 9, 8, 9, 9, 9, 9, 10, 9, 9, 8, 9, 9, 9, 9, 10, 8, 8, 8, 8, 9, 9, 8, 8, 7, 8, 10, 9, 9, 9, 9, 9, 8, 9, 9, 8, 8, 8, 9, 8, 9, 9, 8, 9, 9, 8, 10, 9, 9, 9, 8, 10, 8, 8, 9, 9, 9, 9, 9, 9, 8, 8, 10, 9, 9, 9, 9, 8, 9, 9, 8, 9, 9, 9, 9, 8, 10, 8, 8, 9]\n",
      "[9, 10, 8, 7, 8, 8, 9, 9, 10, 8, 10, 9, 9, 9, 9, 9, 8, 9, 9, 10, 10, 8, 9, 7, 9, 9, 9, 8, 9, 8, 8, 8, 10, 10, 8, 9, 8, 8, 8, 10, 9, 9, 9, 9, 9, 9, 8, 9, 8, 10, 10, 10, 7, 10, 8, 9, 10, 10, 9, 8, 9, 8, 8, 9, 8, 9, 8, 9, 9, 8, 9, 9, 8, 8, 8, 9, 7, 8, 8, 9, 8, 9, 8, 10, 10, 10, 10, 9, 10, 8, 7, 9, 9, 10, 9, 9, 8, 9, 9, 8]\n",
      "[8, 9, 8, 8, 9, 9, 9, 9, 9, 8, 10, 9, 8, 9, 9, 8, 9, 9, 7, 10, 8, 9, 9, 9, 8, 8, 10, 9, 9, 9, 10, 9, 8, 9, 8, 9, 8, 8, 8, 8, 9, 9, 9, 9, 10, 8, 8, 9, 9, 9, 9, 9, 9, 9, 8, 9, 8, 8, 9, 8, 8, 9, 9, 10, 9, 9, 10, 9, 10, 8, 9, 10, 9, 8, 8, 7, 9, 8, 7, 10, 9, 7, 8, 8, 10, 9, 9, 8, 8, 8, 10, 10, 9, 8, 8, 9, 8, 9, 8, 8]\n",
      "[9, 9, 9, 8, 9, 7, 10, 8, 9, 9, 8, 10, 8, 10, 9, 9, 9, 9, 8, 10, 9, 8, 9, 8, 10, 10, 9, 8, 8, 8, 9, 8, 8, 9, 8, 9, 9, 8, 8, 8, 9, 9, 8, 9, 9, 8, 9, 10, 8, 10, 9, 9, 10, 8, 9, 9, 9, 8, 8, 9, 9, 8, 10, 9, 10, 9, 10, 8, 10, 8, 7, 10, 8, 9, 8, 10, 10, 8, 8, 9, 8, 8, 9, 8, 9, 8, 9, 9, 9, 9, 9, 8, 9, 9, 10, 8, 8, 8, 8, 9]\n"
     ]
    },
    {
     "name": "stderr",
     "output_type": "stream",
     "text": [
      "\r\n",
      " 82%|████████████████████████████████████        | 9/11 [04:19<00:57, 28.70s/it]"
     ]
    },
    {
     "name": "stdout",
     "output_type": "stream",
     "text": [
      "[9, 9, 8, 8, 7, 9, 9, 9, 8, 9, 8, 8, 7, 9, 9, 8, 8, 8, 8, 7, 8, 7, 9, 10, 9, 9, 8, 9, 8, 9, 8, 8, 8, 8, 8, 9, 8, 8, 9, 9, 7, 8, 9, 9, 9, 8, 8, 8, 9, 10, 9, 8, 8, 9, 8, 9, 9, 9, 8, 9, 8, 9, 8, 9, 8, 10, 7, 8, 9, 9, 7, 9, 9, 9, 9, 7, 9, 8, 8, 9, 8, 9, 9, 8, 7, 9, 9, 8, 9, 9, 9, 8, 8, 8, 8, 10, 8, 9, 8, 10]\n",
      "[9, 10, 9, 9, 9, 10, 8, 8, 9, 7, 9, 10, 10, 9, 10, 9, 9, 9, 7, 10, 9, 9, 8, 8, 9, 9, 10, 8, 9, 7, 8, 10, 9, 8, 9, 9, 7, 9, 9, 8, 8, 8, 8, 8, 8, 8, 9, 9, 8, 8, 8, 8, 8, 9, 9, 9, 8, 8, 9, 9, 9, 7, 10, 9, 8, 10, 10, 10, 8, 9, 10, 9, 10, 10, 9, 9, 8, 9, 9, 8, 7, 8, 8, 8, 8, 8, 9, 8, 10, 8, 8, 10, 9, 9, 8, 8, 10, 8, 10, 10]\n",
      "[10, 10, 10, 9, 9, 9, 9, 8, 10, 10, 9, 10, 8, 9, 10, 8, 8, 9, 9, 8, 10, 9, 8, 8, 8, 10, 10, 7, 8, 9, 8, 10, 9, 9, 10, 9, 9, 9, 10, 9, 10, 9, 10, 9, 9, 10, 10, 9, 8, 8, 9, 9, 8, 8, 8, 9, 9, 7, 8, 8, 9, 9, 8, 9, 9, 8, 8, 10, 9, 7, 9, 9, 10, 9, 9, 9, 9, 9, 8, 8, 9, 8, 9, 10, 9, 9, 8, 10, 9, 10, 10, 9, 10, 9, 8, 8, 9, 10, 9, 8]\n",
      "[9, 8, 10, 9, 9, 7, 9, 9, 9, 10, 9, 8, 8, 8, 8, 8, 10, 9, 8, 9, 10, 8, 9, 9, 8, 9, 9, 8, 9, 9, 9, 10, 8, 9, 8, 10, 10, 8, 9, 8, 9, 10, 10, 8, 9, 7, 8, 9, 9, 10, 8, 10, 9, 9, 8, 8, 10, 9, 8, 9, 8, 8, 9, 9, 8, 8, 9, 9, 9, 9, 9, 9, 9, 9, 9, 10, 8, 9, 9, 9, 8, 8, 10, 9, 9, 7, 9, 9, 8, 9, 9, 8, 9, 8, 10, 8, 10, 9, 9, 9]\n",
      "[10, 9, 9, 10, 8, 9, 10, 9, 9, 9, 8, 8, 9, 8, 7, 9, 8, 9, 9, 9, 8, 8, 8, 8, 8, 9, 8, 9, 8, 9, 9, 8, 8, 8, 8, 8, 9, 9, 9, 8, 9, 9, 8, 7, 8, 10, 8, 9, 10, 8, 9, 10, 9, 9, 9, 9, 8, 9, 8, 8, 10, 8, 8, 10, 8, 9, 9, 9, 8, 8, 8, 9, 9, 9, 10, 8, 7, 9, 9, 8, 10, 8, 8, 9, 9, 8, 8, 9, 10, 9, 9, 8, 10, 8, 8, 9, 8, 8, 9, 9]\n"
     ]
    },
    {
     "name": "stderr",
     "output_type": "stream",
     "text": [
      "\r\n",
      " 91%|███████████████████████████████████████    | 10/11 [04:47<00:28, 28.68s/it]"
     ]
    },
    {
     "name": "stdout",
     "output_type": "stream",
     "text": [
      "[9, 8, 8, 8, 8, 9, 8, 8, 9, 8, 8, 8, 7, 9, 9, 8, 8, 9, 8, 9, 9, 8, 10, 9, 8, 8, 9, 9, 9, 9, 9, 8, 8, 9, 8, 9, 8, 8, 8, 9, 8, 8, 8, 9, 9, 7, 10, 8, 8, 8, 8, 10, 8, 8, 9, 9, 8, 9, 9, 9, 9, 8, 9, 9, 9, 9, 8, 8, 9, 8, 9, 9, 9, 10, 9, 9, 7, 7, 8, 10, 8, 9, 9, 8, 9, 8, 10, 8, 9, 10, 8, 8, 8, 10, 10, 8, 10, 8, 8, 8]\n",
      "[8, 9, 10, 9, 9, 8, 9, 8, 9, 8, 8, 10, 8, 8, 9, 9, 8, 8, 9, 8, 8, 8, 7, 9, 8, 9, 9, 10, 9, 8, 8, 10, 8, 10, 9, 8, 8, 9, 9, 8, 8, 9, 8, 9, 10, 8, 9, 9, 8, 8, 9, 8, 8, 8, 8, 8, 8, 9, 9, 9, 10, 9, 7, 9, 9, 9, 9, 9, 10, 9, 9, 9, 9, 8, 9, 10, 8, 8, 9, 8, 7, 9, 9, 9, 9, 9, 8, 9, 8, 10, 7, 8, 8, 9, 9, 10, 9, 9, 9, 9]\n",
      "[10, 9, 8, 9, 8, 9, 9, 8, 9, 8, 10, 8, 10, 7, 10, 10, 8, 9, 9, 9, 8, 9, 9, 9, 9, 8, 7, 9, 9, 9, 8, 10, 10, 8, 8, 9, 9, 9, 9, 8, 9, 8, 8, 10, 10, 7, 8, 10, 8, 9, 9, 9, 8, 9, 9, 8, 8, 9, 7, 10, 8, 8, 8, 9, 10, 8, 10, 10, 10, 9, 10, 8, 9, 9, 9, 8, 9, 10, 7, 9, 8, 9, 9, 7, 10, 10, 9, 10, 9, 9, 9, 8, 10, 8, 8, 8, 8, 8, 9, 9]\n",
      "[9, 9, 7, 8, 9, 8, 9, 9, 10, 7, 7, 9, 9, 9, 10, 8, 7, 9, 8, 9, 8, 9, 8, 9, 10, 9, 10, 8, 9, 10, 9, 9, 8, 9, 9, 9, 10, 10, 9, 7, 7, 9, 9, 8, 8, 8, 10, 10, 8, 9, 9, 10, 9, 10, 8, 10, 9, 9, 8, 9, 9, 9, 7, 9, 10, 9, 8, 8, 8, 10, 9, 9, 10, 8, 9, 10, 8, 8, 8, 9, 10, 9, 10, 9, 8, 9, 9, 9, 9, 9, 8, 8, 9, 8, 9, 9, 8, 8, 10, 10]\n",
      "[8, 8, 10, 9, 8, 9, 10, 8, 9, 9, 8, 9, 9, 8, 9, 8, 7, 8, 8, 8, 10, 9, 8, 9, 10, 9, 9, 9, 10, 9, 8, 10, 9, 9, 8, 9, 8, 9, 10, 9, 10, 9, 8, 8, 8, 8, 8, 9, 8, 9, 9, 9, 8, 7, 10, 10, 8, 8, 9, 8, 8, 9, 9, 8, 9, 9, 9, 8, 9, 9, 10, 9, 8, 9, 8, 9, 9, 9, 9, 8, 9, 8, 8, 10, 10, 10, 8, 10, 9, 10, 9, 9, 8, 8, 9, 9, 9, 9, 9, 9]\n"
     ]
    },
    {
     "name": "stderr",
     "output_type": "stream",
     "text": [
      "100%|███████████████████████████████████████████| 11/11 [05:16<00:00, 28.77s/it]"
     ]
    },
    {
     "name": "stdout",
     "output_type": "stream",
     "text": [
      "[10, 8, 8, 9, 9, 10, 10, 10, 9, 9, 9, 10, 8, 9, 9, 9, 8, 8, 9, 8, 8, 10, 8, 8, 9, 10, 8, 8, 10, 9, 9, 10, 8, 9, 9, 8, 7, 8, 10, 9, 9, 9, 9, 8, 8, 8, 9, 10, 8, 9, 9, 9, 8, 8, 9, 9, 8, 8, 8, 9, 9, 9, 8, 10, 8, 8, 8, 9, 9, 9, 8, 8, 9, 9, 8, 8, 9, 9, 9, 9, 8, 9, 10, 9, 10, 9, 9, 9, 9, 10, 9, 9, 9, 10, 9, 8, 7, 9, 8, 8]\n"
     ]
    },
    {
     "name": "stderr",
     "output_type": "stream",
     "text": [
      "\n"
     ]
    }
   ],
   "source": [
    "import tqdm \n",
    "\n",
    "values = [[0 for j in range(len(possible_noise))] for i in range(len(possible_kernel))]\n",
    "\n",
    "for i in tqdm.tqdm(range(len(possible_kernel))):\n",
    "    for j in range(len(possible_noise)):\n",
    "        values[i][j] = count_different_centers_wrap(num=100, noise_weight=possible_noise[j], \n",
    "                                                    svgd_repulsive_weight=possible_kernel[i])\n"
   ]
  },
  {
   "cell_type": "code",
   "execution_count": 18,
   "id": "90355670",
   "metadata": {},
   "outputs": [
    {
     "data": {
      "image/png": "[encoded data removed]",
      "text/plain": [
       "<Figure size 504x432 with 2 Axes>"
      ]
     },
     "metadata": {
      "needs_background": "light"
     },
     "output_type": "display_data"
    }
   ],
   "source": [
    "import matplotlib.pyplot as plt\n",
    "values_reversed = list(reversed([list(reversed(v)) for v in values]))\n",
    "\n",
    "plt.rcParams[\"figure.figsize\"] = (7,6)\n",
    "fig, ax = plt.subplots()\n",
    "im = ax.imshow(values_reversed)\n",
    "\n",
    "# Add colorbar\n",
    "ax.set_xticks(np.arange(len(possible_noise)), labels = [f'{s:.3}' for s in list(reversed(possible_noise))])\n",
    "ax.set_yticks(np.arange(len(possible_kernel)), labels=[f'{s:.3}' for s in list(reversed(possible_kernel))])\n",
    "ax.figure.colorbar(im, ax=ax)\n",
    "\n",
    "plt.title(\"Values\")\n",
    "plt.show()"
   ]
  },
  {
   "cell_type": "markdown",
   "id": "52d5b845",
   "metadata": {},
   "source": [
    "## Radial kernel particle guidance"
   ]
  },
  {
   "cell_type": "code",
   "execution_count": 135,
   "id": "eb9d712d",
   "metadata": {},
   "outputs": [
    {
     "name": "stdout",
     "output_type": "stream",
     "text": [
      "[10, 10, 10, 10, 10, 10, 10, 10, 10, 10, 10, 10, 10, 10, 10, 10, 10, 10, 10, 10, 10, 10, 10, 10, 10, 10, 10, 10, 10, 10, 10, 10, 10, 10, 10, 10, 10, 10, 10, 10, 10, 10, 10, 10, 10, 10, 10, 10, 10, 10, 10, 10, 10, 10, 10, 10, 10, 10, 10, 10, 10, 10, 10, 10, 10, 10, 10, 10, 10, 10, 10, 10, 10, 10, 10, 10, 10, 10, 10, 10, 10, 10, 10, 10, 10, 10, 10, 10, 10, 10, 10, 10, 10, 10, 10, 10, 10, 10, 10, 10]\n"
     ]
    },
    {
     "data": {
      "text/plain": [
       "10.0"
      ]
     },
     "execution_count": 135,
     "metadata": {},
     "output_type": "execute_result"
    },
    {
     "data": {
      "image/png": "[encoded data removed]",
      "text/plain": [
       "<Figure size 450x450 with 1 Axes>"
      ]
     },
     "metadata": {},
     "output_type": "display_data"
    }
   ],
   "source": [
    "centers = np.asarray([(x,y) for x,y in zip(cx,cy)])\n",
    "\n",
    "def radial_particle_reverse_diffusion(N, steps=1000, max_sigma2=1, min_sigma2=0.001, \n",
    "                               svgd_score_weight=2, svgd_repulsive_weight=100, kernel_size=0.001, noise_weight=1):\n",
    "    t_schedule = np.exp(np.linspace(np.log(min_sigma2), np.log(max_sigma2), steps))\n",
    "    x = np.random.normal(0, np.sqrt(max_sigma2), (N, 2))\n",
    "    list_samples = [x]\n",
    "    \n",
    "    for i in range(steps, 0, -1):\n",
    "        var = t_schedule[i-1]\n",
    "        d_sigma2 = t_schedule[i-1] - t_schedule[i-2] if i > 1 else t_schedule[i-1]\n",
    "        score_x = score(centers, x[:, 0], x[:, 1], t_schedule[i-1] + sigma2).T\n",
    "        \n",
    "        rad = np.angle(x[:, 0] + 1j* x[:, 1])\n",
    "        diff = np.mod(rad[:, None] - rad[None, :] + 3 * np.pi, 2 * np.pi) - np.pi\n",
    "        #print(diff)\n",
    "        d2_matrix = diff*diff\n",
    "        #print(d2_matrix.shape)\n",
    "        #med2 = np.median(d2_matrix, axis=1, keepdims=True)[0]\n",
    "        h = np.pi * np.sqrt(var) #* med2 / max(np.log(N), 1)\n",
    "        k = np.exp(-1 / h * d2_matrix)\n",
    "        \n",
    "        \n",
    "        repulsive = np.sum(2 / h * diff * k, axis=1) / N #/ np.sqrt(var)\n",
    "        z = np.random.normal(0, 1, (N,2))\n",
    "        perturb_x = d_sigma2 * svgd_score_weight * score_x + noise_weight * np.sqrt(d_sigma2) * z\n",
    "        #print(score_x, repulsive)\n",
    "        rot_angle = repulsive * d_sigma2 * svgd_repulsive_weight\n",
    "        rot_mat = np.moveaxis(np.asarray([[np.cos(rot_angle), -np.sin(rot_angle)], [np.sin(rot_angle), np.cos(rot_angle)]]), -1, 0)\n",
    "        #print(rot_angle.shape, score_x.shape, rot_mat.shape)\n",
    "        x = np.einsum('ijk,ik->ij', rot_mat, x)\n",
    "        x = x + perturb_x\n",
    "        list_samples.append(x)\n",
    "        #print(x)\n",
    "    \n",
    "    return list_samples, t_schedule\n",
    "\n",
    "steps = 200\n",
    "radial_particle_list_samples, t_schedule = radial_particle_reverse_diffusion(10, steps, svgd_score_weight=1, svgd_repulsive_weight=1000, kernel_size=0.001, noise_weight=1)\n",
    "list_samples, t_schedule = radial_particle_reverse_diffusion(10, steps, svgd_score_weight=1, svgd_repulsive_weight=0, kernel_size=0.001, noise_weight=1)\n",
    "figure_func(-1, radial_particle_list_samples)\n",
    "radial_count_different_centers_wrap(svgd_score_weight=1, svgd_repulsive_weight=1000, kernel_size=0.001, noise_weight=0.1, num=100)"
   ]
  },
  {
   "cell_type": "code",
   "execution_count": 45,
   "id": "44a82f99",
   "metadata": {},
   "outputs": [],
   "source": [
    "def radial_count_different_centers_wrap(svgd_score_weight=1, svgd_repulsive_weight=1, kernel_size=0.001, noise_weight=1, num=1):\n",
    "    vals = []\n",
    "    for i in range(num):\n",
    "        x = radial_particle_reverse_diffusion(N=10, steps=200, svgd_score_weight=svgd_score_weight, \n",
    "                                       svgd_repulsive_weight=svgd_repulsive_weight, noise_weight=noise_weight, kernel_size=kernel_size)[0][-1]\n",
    "        v = count_different_centers(x, centers)\n",
    "        vals.append(v)\n",
    "    print(vals)\n",
    "    return sum(vals) / num"
   ]
  },
  {
   "cell_type": "code",
   "execution_count": 57,
   "id": "4c59df1c",
   "metadata": {},
   "outputs": [
    {
     "name": "stderr",
     "output_type": "stream",
     "text": [
      "\r\n",
      "  0%|                                                    | 0/11 [00:00<?, ?it/s]"
     ]
    },
    {
     "name": "stdout",
     "output_type": "stream",
     "text": [
      "[5, 7, 6, 8, 7, 6, 5, 7, 6, 5, 8, 6, 8, 7, 6, 7, 6, 7, 6, 8, 8, 5, 6, 7, 7, 7, 4, 7, 7, 6, 5, 7, 7, 6, 6, 7, 6, 6, 7, 7, 6, 8, 7, 8, 7, 5, 7, 6, 6, 6, 7, 6, 6, 7, 6, 5, 4, 7, 7, 7, 6, 6, 6, 8, 6, 7, 6, 7, 6, 8, 5, 7, 7, 7, 5, 8, 6, 6, 6, 7, 6, 4, 7, 5, 7, 5, 8, 6, 6, 5, 6, 8, 6, 6, 5, 6, 6, 6, 6, 8]\n",
      "[5, 6, 6, 7, 7, 8, 6, 6, 5, 7, 5, 7, 7, 7, 5, 8, 8, 8, 6, 5, 6, 8, 7, 7, 6, 6, 5, 7, 8, 6, 6, 8, 6, 7, 6, 6, 5, 9, 6, 7, 6, 5, 5, 7, 3, 6, 5, 7, 7, 7, 5, 7, 8, 7, 5, 6, 4, 4, 7, 7, 6, 8, 6, 6, 7, 6, 6, 7, 6, 7, 8, 6, 6, 8, 7, 7, 6, 6, 6, 7, 7, 5, 7, 9, 7, 7, 6, 6, 6, 7, 7, 6, 5, 6, 7, 7, 7, 6, 5, 8]\n",
      "[8, 4, 8, 5, 6, 8, 7, 6, 7, 8, 7, 7, 6, 6, 7, 7, 6, 8, 5, 7, 6, 6, 7, 8, 5, 6, 6, 6, 7, 8, 7, 7, 6, 7, 7, 6, 7, 6, 6, 6, 5, 7, 5, 7, 7, 6, 6, 8, 8, 7, 5, 8, 7, 7, 7, 6, 6, 8, 7, 6, 8, 8, 7, 6, 7, 6, 8, 5, 5, 6, 7, 7, 6, 5, 7, 7, 8, 6, 8, 7, 6, 7, 5, 7, 5, 6, 5, 6, 6, 6, 5, 6, 7, 7, 9, 7, 6, 5, 7, 6]\n",
      "[6, 7, 7, 7, 4, 7, 6, 8, 7, 5, 7, 6, 6, 7, 7, 7, 6, 7, 8, 5, 5, 7, 6, 6, 8, 7, 7, 8, 6, 7, 7, 6, 6, 8, 5, 8, 7, 6, 7, 7, 8, 6, 6, 6, 8, 6, 5, 5, 7, 6, 9, 8, 6, 6, 6, 7, 6, 5, 9, 5, 7, 6, 6, 7, 7, 6, 6, 6, 7, 8, 4, 7, 8, 5, 7, 7, 7, 5, 7, 6, 7, 5, 6, 8, 7, 6, 6, 5, 6, 6, 6, 7, 4, 7, 7, 6, 7, 7, 6, 6]\n"
     ]
    },
    {
     "name": "stderr",
     "output_type": "stream",
     "text": [
      "\r\n",
      "  9%|████                                        | 1/11 [00:27<04:30, 27.10s/it]"
     ]
    },
    {
     "name": "stdout",
     "output_type": "stream",
     "text": [
      "[6, 7, 7, 7, 6, 6, 7, 6, 6, 7, 7, 6, 6, 8, 7, 7, 5, 7, 8, 8, 6, 5, 7, 7, 6, 5, 8, 6, 6, 6, 5, 7, 7, 7, 6, 6, 6, 7, 6, 7, 7, 5, 8, 6, 6, 5, 5, 5, 6, 6, 6, 7, 5, 6, 7, 7, 6, 7, 6, 5, 6, 6, 5, 8, 6, 7, 6, 6, 4, 6, 7, 7, 6, 6, 5, 7, 6, 8, 6, 6, 6, 5, 6, 6, 7, 8, 6, 7, 5, 6, 7, 7, 5, 7, 7, 4, 8, 4, 5, 6]\n",
      "[5, 5, 7, 7, 6, 6, 6, 7, 7, 6, 6, 9, 8, 6, 6, 7, 6, 7, 4, 7, 7, 7, 7, 6, 6, 7, 8, 7, 6, 5, 5, 7, 7, 7, 6, 6, 8, 5, 6, 7, 6, 6, 6, 7, 7, 6, 9, 5, 8, 6, 7, 6, 7, 5, 8, 9, 7, 7, 7, 7, 5, 6, 6, 9, 8, 6, 7, 6, 5, 7, 6, 6, 8, 7, 5, 8, 6, 6, 6, 7, 7, 6, 5, 8, 6, 7, 7, 4, 6, 6, 6, 6, 6, 6, 7, 9, 8, 7, 5, 8]\n",
      "[7, 8, 6, 6, 7, 7, 7, 7, 5, 7, 6, 6, 5, 7, 7, 7, 6, 6, 7, 5, 7, 5, 7, 6, 8, 6, 8, 6, 5, 7, 7, 7, 7, 6, 7, 6, 7, 7, 6, 7, 7, 7, 5, 6, 7, 8, 7, 6, 7, 5, 6, 7, 7, 5, 6, 8, 7, 5, 7, 8, 7, 8, 7, 6, 4, 6, 8, 6, 7, 8, 8, 8, 6, 5, 7, 6, 6, 7, 5, 7, 6, 4, 5, 6, 8, 7, 6, 8, 6, 6, 8, 6, 5, 9, 6, 7, 7, 6, 6, 5]\n",
      "[8, 8, 6, 6, 7, 8, 7, 6, 7, 8, 8, 5, 6, 7, 8, 6, 7, 7, 8, 7, 5, 6, 6, 7, 7, 8, 6, 6, 7, 6, 6, 7, 8, 6, 7, 7, 8, 4, 6, 8, 7, 7, 8, 7, 6, 6, 7, 7, 6, 7, 5, 8, 7, 6, 6, 5, 6, 5, 7, 6, 6, 6, 4, 7, 6, 6, 8, 6, 5, 6, 6, 7, 5, 6, 5, 7, 6, 7, 7, 6, 6, 7, 8, 4, 7, 7, 6, 7, 6, 6, 6, 5, 6, 8, 6, 6, 4, 6, 7, 8]\n",
      "[9, 6, 7, 6, 8, 7, 7, 7, 8, 8, 8, 7, 7, 9, 7, 6, 6, 6, 7, 7, 6, 7, 6, 8, 6, 7, 7, 7, 8, 6, 6, 6, 6, 6, 8, 6, 5, 7, 6, 7, 6, 7, 7, 7, 7, 7, 6, 7, 5, 5, 6, 8, 6, 6, 6, 6, 9, 8, 7, 6, 7, 7, 7, 5, 7, 5, 7, 6, 7, 8, 7, 6, 5, 7, 7, 5, 7, 7, 8, 6, 6, 6, 8, 8, 8, 6, 7, 5, 8, 6, 7, 5, 7, 6, 9, 6, 6, 7, 5, 6]\n"
     ]
    },
    {
     "name": "stderr",
     "output_type": "stream",
     "text": [
      "\r\n",
      " 18%|████████                                    | 2/11 [00:54<04:04, 27.17s/it]"
     ]
    },
    {
     "name": "stdout",
     "output_type": "stream",
     "text": [
      "[8, 6, 6, 6, 7, 6, 7, 6, 7, 7, 5, 8, 7, 8, 4, 6, 6, 6, 6, 6, 5, 6, 7, 5, 6, 5, 6, 7, 6, 7, 7, 6, 8, 8, 7, 8, 8, 6, 5, 6, 6, 6, 7, 7, 7, 7, 7, 7, 7, 7, 8, 6, 6, 5, 7, 6, 5, 7, 7, 8, 6, 7, 5, 6, 6, 6, 7, 6, 5, 7, 7, 6, 6, 5, 7, 6, 7, 6, 6, 6, 5, 5, 8, 5, 7, 8, 8, 6, 6, 6, 8, 7, 5, 7, 7, 7, 7, 7, 7, 8]\n",
      "[5, 7, 8, 6, 7, 7, 7, 7, 6, 7, 6, 6, 6, 6, 6, 8, 6, 7, 6, 6, 7, 6, 8, 6, 8, 7, 4, 7, 7, 6, 5, 6, 6, 7, 6, 7, 5, 5, 6, 7, 7, 6, 6, 6, 6, 5, 5, 7, 6, 6, 6, 5, 8, 8, 8, 7, 7, 6, 7, 5, 5, 5, 9, 7, 6, 8, 7, 5, 7, 7, 5, 7, 6, 7, 7, 7, 7, 6, 5, 6, 7, 6, 6, 6, 7, 8, 8, 5, 5, 6, 8, 6, 7, 6, 7, 6, 6, 8, 5, 6]\n",
      "[6, 7, 6, 6, 7, 7, 7, 6, 8, 6, 7, 5, 6, 7, 6, 9, 8, 6, 6, 8, 7, 7, 5, 6, 7, 7, 8, 6, 6, 7, 7, 7, 5, 5, 8, 8, 7, 5, 6, 7, 7, 5, 8, 7, 8, 6, 5, 6, 5, 6, 7, 8, 8, 6, 7, 5, 7, 5, 6, 7, 5, 7, 7, 7, 6, 7, 7, 6, 6, 4, 7, 6, 6, 8, 8, 7, 6, 8, 6, 8, 5, 6, 6, 6, 6, 7, 8, 6, 7, 6, 7, 4, 5, 7, 5, 7, 6, 6, 6, 7]\n",
      "[7, 7, 6, 6, 7, 8, 8, 5, 5, 6, 6, 6, 5, 6, 7, 5, 6, 6, 7, 6, 7, 7, 8, 5, 8, 7, 5, 8, 7, 6, 7, 5, 6, 6, 6, 7, 6, 7, 5, 7, 6, 7, 7, 6, 7, 7, 7, 5, 6, 6, 5, 5, 6, 6, 6, 4, 7, 8, 6, 6, 8, 6, 6, 7, 6, 8, 7, 5, 7, 6, 7, 7, 7, 7, 7, 6, 7, 6, 7, 6, 8, 7, 6, 8, 6, 7, 9, 5, 5, 6, 7, 6, 6, 7, 6, 5, 8, 7, 5, 6]\n",
      "[6, 6, 8, 7, 7, 5, 8, 7, 6, 8, 5, 6, 7, 6, 6, 7, 5, 7, 6, 8, 6, 7, 6, 6, 6, 6, 8, 6, 7, 6, 7, 6, 6, 7, 7, 8, 6, 8, 7, 6, 6, 8, 6, 5, 5, 7, 6, 6, 7, 6, 8, 7, 7, 6, 8, 5, 6, 6, 6, 7, 6, 7, 6, 7, 8, 6, 4, 7, 7, 8, 7, 5, 7, 7, 6, 8, 8, 7, 8, 6, 7, 8, 5, 5, 6, 7, 5, 6, 5, 8, 7, 8, 7, 6, 6, 7, 7, 6, 8, 5]\n"
     ]
    },
    {
     "name": "stderr",
     "output_type": "stream",
     "text": [
      "\r\n",
      " 27%|████████████                                | 3/11 [01:21<03:37, 27.14s/it]"
     ]
    },
    {
     "name": "stdout",
     "output_type": "stream",
     "text": [
      "[6, 7, 6, 4, 6, 7, 5, 7, 6, 5, 7, 8, 8, 6, 7, 6, 7, 8, 7, 7, 5, 7, 6, 6, 5, 6, 7, 7, 8, 7, 7, 7, 7, 7, 8, 7, 6, 5, 7, 6, 7, 7, 7, 6, 7, 7, 6, 8, 7, 6, 7, 6, 7, 7, 8, 7, 6, 7, 7, 5, 7, 5, 6, 8, 7, 7, 7, 6, 6, 8, 6, 6, 6, 7, 5, 6, 7, 8, 5, 6, 7, 6, 6, 5, 7, 6, 6, 8, 7, 7, 8, 5, 6, 6, 7, 7, 5, 6, 6, 6]\n",
      "[7, 7, 7, 8, 7, 6, 7, 6, 9, 8, 8, 6, 6, 6, 5, 8, 6, 7, 6, 7, 8, 7, 6, 6, 5, 7, 6, 6, 8, 6, 7, 6, 6, 7, 6, 7, 6, 6, 7, 6, 7, 7, 5, 7, 6, 7, 7, 6, 6, 6, 7, 7, 9, 8, 6, 8, 6, 7, 8, 6, 6, 7, 6, 7, 7, 6, 6, 8, 6, 7, 6, 7, 8, 7, 8, 6, 5, 8, 7, 5, 7, 6, 6, 8, 5, 7, 8, 7, 6, 6, 6, 6, 7, 7, 7, 8, 7, 6, 6, 4]\n",
      "[7, 7, 5, 7, 7, 8, 7, 7, 7, 6, 8, 5, 8, 7, 5, 6, 6, 6, 8, 6, 6, 7, 7, 6, 5, 6, 7, 7, 7, 6, 5, 7, 6, 7, 7, 7, 7, 5, 8, 6, 6, 6, 6, 7, 7, 7, 6, 7, 7, 8, 7, 8, 5, 6, 7, 5, 9, 7, 6, 6, 7, 5, 6, 7, 8, 5, 7, 7, 9, 7, 8, 7, 8, 8, 8, 6, 7, 9, 6, 6, 7, 4, 6, 6, 8, 6, 7, 7, 7, 7, 7, 7, 5, 7, 7, 9, 8, 6, 7, 7]\n",
      "[5, 5, 7, 6, 5, 7, 6, 7, 7, 6, 7, 6, 7, 6, 7, 5, 5, 8, 5, 5, 6, 7, 6, 7, 6, 8, 6, 6, 6, 8, 5, 8, 7, 7, 6, 6, 6, 7, 7, 8, 7, 5, 6, 7, 8, 7, 7, 6, 7, 6, 7, 5, 6, 8, 7, 6, 7, 8, 4, 8, 6, 6, 9, 6, 6, 6, 6, 7, 8, 6, 9, 7, 6, 7, 7, 8, 8, 5, 6, 5, 6, 5, 7, 7, 8, 6, 6, 7, 6, 5, 6, 7, 6, 7, 7, 8, 6, 5, 5, 7]\n",
      "[5, 6, 7, 7, 6, 7, 7, 8, 8, 4, 7, 6, 8, 6, 6, 6, 6, 6, 6, 5, 6, 6, 6, 5, 6, 8, 7, 7, 6, 7, 7, 7, 6, 6, 6, 8, 7, 7, 6, 6, 7, 7, 5, 8, 7, 8, 6, 7, 5, 6, 6, 7, 7, 6, 6, 6, 5, 6, 6, 6, 7, 6, 6, 6, 8, 7, 8, 6, 7, 8, 6, 6, 7, 8, 7, 6, 6, 6, 8, 6, 7, 8, 6, 6, 5, 6, 8, 7, 7, 5, 8, 5, 7, 6, 8, 6, 5, 8, 6, 6]\n"
     ]
    },
    {
     "name": "stderr",
     "output_type": "stream",
     "text": [
      "\r\n",
      " 36%|████████████████                            | 4/11 [01:48<03:10, 27.19s/it]"
     ]
    },
    {
     "name": "stdout",
     "output_type": "stream",
     "text": [
      "[6, 6, 6, 7, 6, 6, 8, 8, 5, 7, 7, 7, 7, 6, 7, 6, 6, 6, 6, 6, 7, 6, 5, 6, 7, 6, 6, 5, 6, 6, 7, 8, 6, 7, 7, 8, 7, 6, 7, 5, 8, 7, 8, 6, 6, 6, 7, 7, 7, 7, 6, 6, 8, 6, 6, 6, 6, 6, 7, 5, 7, 7, 8, 6, 6, 7, 6, 7, 5, 5, 7, 6, 7, 7, 5, 6, 8, 7, 6, 6, 5, 4, 5, 9, 7, 7, 6, 6, 8, 7, 5, 8, 6, 7, 6, 7, 7, 9, 6, 6]\n",
      "[7, 8, 6, 7, 6, 6, 7, 7, 7, 7, 7, 7, 7, 8, 5, 7, 8, 7, 7, 6, 5, 7, 7, 7, 7, 7, 8, 8, 7, 6, 6, 6, 7, 7, 8, 6, 6, 7, 8, 8, 8, 7, 7, 6, 7, 7, 6, 9, 5, 6, 6, 6, 8, 6, 7, 6, 6, 7, 7, 8, 7, 8, 7, 6, 7, 6, 7, 7, 7, 7, 8, 7, 7, 8, 8, 9, 8, 6, 8, 5, 7, 7, 8, 6, 6, 6, 6, 8, 7, 6, 6, 8, 7, 7, 8, 8, 5, 7, 6, 7]\n",
      "[8, 6, 6, 6, 7, 8, 7, 7, 8, 5, 8, 5, 7, 8, 7, 6, 6, 5, 6, 5, 7, 8, 5, 7, 6, 6, 8, 6, 6, 7, 7, 8, 7, 7, 4, 6, 6, 8, 6, 7, 7, 6, 7, 8, 9, 7, 6, 7, 9, 6, 7, 7, 8, 6, 8, 8, 7, 8, 6, 7, 6, 6, 7, 6, 6, 7, 8, 7, 6, 7, 6, 6, 7, 6, 6, 8, 8, 8, 6, 8, 6, 7, 6, 7, 7, 7, 5, 8, 6, 7, 7, 7, 7, 7, 6, 7, 7, 9, 6, 7]\n",
      "[7, 7, 7, 6, 6, 7, 6, 7, 6, 6, 5, 7, 7, 8, 7, 7, 6, 7, 7, 4, 8, 6, 6, 8, 6, 7, 6, 7, 6, 6, 6, 7, 8, 6, 7, 7, 7, 6, 7, 8, 6, 7, 6, 7, 7, 7, 5, 7, 7, 8, 6, 7, 6, 7, 7, 7, 7, 7, 5, 7, 6, 7, 6, 6, 7, 7, 8, 6, 8, 7, 8, 7, 8, 6, 7, 7, 6, 6, 7, 7, 7, 7, 6, 6, 8, 8, 5, 8, 7, 7, 6, 7, 7, 6, 9, 6, 7, 6, 6, 7]\n",
      "[6, 7, 8, 4, 7, 6, 7, 6, 7, 7, 7, 6, 6, 7, 7, 6, 7, 6, 7, 7, 7, 5, 7, 7, 7, 7, 7, 6, 8, 7, 5, 7, 6, 7, 6, 7, 7, 6, 6, 6, 8, 8, 6, 6, 6, 8, 7, 8, 6, 5, 8, 8, 6, 7, 6, 7, 9, 8, 8, 7, 7, 5, 6, 6, 6, 7, 7, 8, 8, 6, 8, 7, 6, 6, 7, 7, 7, 8, 9, 6, 7, 6, 7, 8, 6, 5, 7, 9, 7, 6, 7, 5, 7, 7, 8, 6, 8, 6, 8, 5]\n"
     ]
    },
    {
     "name": "stderr",
     "output_type": "stream",
     "text": [
      "\r\n",
      " 45%|████████████████████                        | 5/11 [02:16<02:44, 27.34s/it]"
     ]
    },
    {
     "name": "stdout",
     "output_type": "stream",
     "text": [
      "[6, 6, 3, 7, 7, 8, 7, 8, 8, 7, 6, 6, 7, 7, 7, 6, 6, 7, 7, 7, 7, 9, 7, 7, 7, 6, 7, 8, 7, 6, 5, 7, 6, 9, 7, 8, 6, 6, 6, 7, 7, 7, 7, 7, 6, 7, 7, 7, 7, 7, 8, 8, 7, 7, 8, 7, 6, 6, 7, 6, 8, 8, 7, 6, 6, 8, 7, 7, 8, 6, 6, 7, 8, 8, 8, 6, 7, 6, 6, 7, 6, 5, 7, 7, 6, 8, 7, 6, 6, 7, 6, 6, 8, 7, 7, 7, 6, 4, 7, 8]\n",
      "[7, 8, 7, 6, 6, 7, 9, 8, 9, 8, 8, 7, 9, 9, 6, 5, 6, 7, 6, 8, 8, 7, 7, 7, 7, 6, 7, 7, 8, 8, 7, 9, 6, 6, 6, 8, 8, 8, 8, 8, 6, 9, 7, 7, 7, 8, 8, 9, 7, 7, 7, 9, 8, 6, 9, 8, 8, 9, 7, 5, 7, 6, 7, 8, 7, 8, 8, 7, 8, 8, 7, 9, 7, 8, 7, 6, 9, 8, 7, 8, 8, 7, 6, 6, 7, 9, 8, 8, 8, 9, 8, 9, 6, 6, 7, 7, 7, 6, 9, 6]\n",
      "[8, 7, 8, 7, 7, 6, 7, 8, 8, 8, 8, 7, 8, 8, 7, 6, 7, 7, 9, 7, 7, 6, 9, 5, 6, 8, 6, 8, 7, 7, 7, 7, 8, 8, 8, 7, 7, 9, 7, 7, 7, 7, 6, 8, 7, 6, 8, 7, 7, 6, 6, 6, 6, 8, 9, 6, 6, 7, 8, 6, 8, 8, 7, 7, 8, 7, 7, 9, 8, 9, 7, 7, 7, 8, 6, 6, 8, 6, 7, 7, 8, 6, 7, 6, 9, 8, 8, 7, 8, 6, 8, 10, 7, 8, 6, 8, 7, 7, 8, 7]\n",
      "[9, 10, 7, 8, 6, 8, 8, 7, 8, 6, 8, 8, 6, 7, 8, 7, 8, 7, 9, 8, 8, 6, 6, 8, 7, 9, 7, 8, 8, 8, 8, 8, 7, 9, 7, 7, 9, 8, 7, 7, 9, 7, 7, 9, 8, 8, 6, 7, 6, 9, 7, 6, 6, 7, 7, 8, 8, 7, 7, 8, 5, 8, 8, 6, 7, 7, 7, 7, 8, 9, 8, 8, 6, 7, 9, 8, 7, 9, 6, 8, 7, 7, 8, 8, 6, 5, 7, 7, 8, 8, 9, 6, 7, 8, 8, 9, 7, 6, 7, 7]\n",
      "[5, 6, 7, 7, 7, 5, 7, 7, 8, 7, 7, 8, 7, 7, 6, 8, 6, 8, 7, 6, 7, 7, 7, 9, 7, 7, 8, 5, 8, 8, 7, 8, 8, 8, 7, 8, 7, 8, 6, 9, 7, 7, 7, 8, 7, 7, 6, 8, 6, 8, 6, 7, 6, 7, 7, 8, 8, 7, 6, 7, 7, 8, 7, 6, 7, 7, 8, 7, 7, 6, 7, 7, 7, 9, 7, 7, 7, 6, 6, 7, 7, 4, 4, 8, 7, 5, 9, 7, 8, 6, 7, 8, 7, 8, 7, 7, 8, 6, 8, 8]\n"
     ]
    },
    {
     "name": "stderr",
     "output_type": "stream",
     "text": [
      "\r\n",
      " 55%|████████████████████████                    | 6/11 [02:43<02:16, 27.33s/it]"
     ]
    },
    {
     "name": "stdout",
     "output_type": "stream",
     "text": [
      "[6, 8, 7, 8, 7, 6, 8, 5, 7, 6, 8, 7, 8, 4, 8, 7, 7, 7, 7, 7, 6, 6, 8, 9, 8, 7, 7, 6, 6, 7, 7, 7, 7, 7, 7, 8, 7, 8, 6, 9, 8, 8, 9, 7, 7, 7, 6, 6, 7, 9, 6, 6, 6, 7, 7, 6, 6, 7, 6, 5, 6, 7, 7, 8, 7, 8, 8, 7, 6, 6, 7, 7, 6, 7, 7, 6, 7, 7, 7, 8, 7, 6, 7, 8, 7, 7, 6, 6, 6, 7, 8, 7, 6, 7, 7, 6, 7, 7, 8, 7]\n",
      "[6, 10, 8, 8, 7, 8, 9, 9, 8, 7, 7, 8, 9, 7, 9, 8, 8, 7, 6, 8, 10, 6, 8, 7, 7, 7, 9, 9, 8, 10, 6, 8, 8, 7, 9, 10, 9, 8, 6, 7, 9, 8, 9, 8, 7, 8, 8, 7, 9, 6, 10, 10, 9, 8, 8, 7, 9, 7, 8, 8, 10, 9, 9, 9, 8, 7, 6, 9, 8, 8, 6, 8, 6, 9, 6, 7, 9, 7, 10, 9, 9, 9, 8, 9, 8, 7, 7, 9, 10, 9, 10, 6, 9, 9, 6, 8, 7, 7, 6, 9]\n",
      "[10, 9, 7, 6, 9, 9, 10, 7, 10, 8, 6, 9, 8, 6, 7, 8, 10, 8, 9, 8, 10, 9, 10, 9, 8, 8, 8, 7, 10, 8, 8, 7, 8, 9, 7, 10, 8, 7, 8, 10, 8, 7, 8, 7, 10, 8, 9, 9, 6, 8, 8, 8, 6, 7, 7, 7, 8, 7, 7, 7, 8, 6, 7, 8, 7, 8, 6, 9, 8, 8, 8, 6, 9, 9, 7, 10, 9, 8, 8, 8, 9, 8, 7, 8, 10, 9, 7, 9, 10, 9, 8, 8, 9, 7, 9, 8, 9, 10, 8, 10]\n",
      "[10, 10, 9, 8, 6, 8, 10, 8, 7, 7, 7, 6, 7, 7, 7, 7, 10, 10, 8, 9, 7, 6, 8, 10, 9, 8, 6, 10, 6, 7, 10, 8, 9, 7, 7, 10, 9, 7, 8, 9, 8, 8, 7, 6, 6, 6, 10, 10, 7, 10, 6, 6, 9, 7, 7, 7, 9, 8, 7, 8, 9, 10, 8, 7, 6, 7, 7, 8, 7, 6, 7, 8, 6, 7, 7, 10, 7, 10, 7, 8, 7, 8, 9, 8, 9, 8, 7, 8, 9, 7, 7, 6, 7, 5, 6, 6, 7, 9, 8, 7]\n",
      "[9, 7, 7, 6, 7, 7, 8, 7, 6, 8, 8, 8, 7, 8, 10, 8, 8, 8, 8, 9, 7, 6, 6, 8, 9, 9, 9, 9, 8, 9, 8, 9, 8, 9, 7, 8, 7, 8, 7, 8, 7, 8, 9, 6, 9, 6, 7, 7, 7, 7, 9, 6, 6, 9, 8, 7, 7, 7, 8, 8, 8, 6, 10, 7, 8, 8, 6, 8, 8, 8, 8, 6, 10, 8, 7, 7, 9, 8, 9, 7, 8, 8, 9, 9, 8, 7, 8, 6, 7, 7, 7, 8, 6, 7, 7, 9, 8, 7, 6, 8]\n"
     ]
    },
    {
     "name": "stderr",
     "output_type": "stream",
     "text": [
      "\r\n",
      " 64%|████████████████████████████                | 7/11 [03:11<01:49, 27.45s/it]"
     ]
    },
    {
     "name": "stdout",
     "output_type": "stream",
     "text": [
      "[9, 7, 7, 7, 8, 9, 6, 7, 8, 6, 7, 6, 7, 6, 8, 9, 7, 7, 7, 8, 8, 7, 7, 9, 6, 8, 8, 8, 6, 7, 7, 7, 7, 9, 8, 8, 7, 7, 8, 9, 7, 8, 7, 8, 8, 7, 8, 8, 7, 8, 7, 7, 5, 7, 7, 7, 8, 7, 6, 8, 7, 8, 9, 8, 5, 8, 8, 8, 7, 7, 8, 7, 8, 7, 7, 7, 8, 5, 8, 8, 6, 7, 7, 8, 8, 7, 8, 8, 8, 9, 7, 9, 7, 8, 9, 7, 9, 6, 8, 9]\n",
      "[8, 10, 10, 9, 8, 10, 7, 10, 6, 8, 6, 6, 10, 9, 10, 7, 10, 8, 10, 8, 10, 10, 9, 7, 6, 9, 6, 8, 6, 10, 10, 6, 9, 8, 9, 9, 9, 6, 6, 10, 8, 9, 9, 10, 6, 10, 6, 5, 7, 6, 6, 10, 6, 10, 10, 5, 7, 9, 9, 9, 10, 6, 8, 7, 9, 9, 7, 7, 9, 10, 9, 6, 10, 10, 7, 10, 6, 6, 9, 6, 6, 6, 10, 8, 9, 10, 10, 7, 6, 9, 8, 9, 8, 6, 7, 9, 7, 10, 10, 8]\n",
      "[10, 8, 8, 10, 6, 7, 10, 6, 8, 8, 8, 6, 10, 10, 8, 8, 5, 7, 10, 6, 10, 10, 9, 9, 8, 9, 10, 6, 7, 9, 10, 6, 10, 6, 7, 9, 10, 9, 9, 6, 10, 6, 10, 7, 8, 8, 9, 10, 8, 6, 9, 7, 10, 9, 9, 8, 5, 10, 9, 10, 6, 7, 10, 10, 9, 7, 7, 10, 10, 6, 10, 7, 9, 9, 7, 7, 10, 8, 10, 7, 9, 10, 10, 10, 7, 7, 8, 6, 10, 9, 9, 6, 10, 10, 6, 8, 10, 10, 6, 8]\n",
      "[9, 10, 10, 10, 8, 10, 8, 10, 6, 9, 7, 6, 10, 8, 6, 10, 10, 8, 10, 10, 9, 10, 8, 7, 10, 6, 10, 10, 8, 8, 9, 9, 7, 9, 10, 6, 8, 8, 8, 8, 9, 6, 8, 7, 10, 7, 10, 7, 9, 10, 10, 10, 9, 7, 6, 10, 10, 10, 9, 9, 6, 9, 9, 10, 9, 10, 7, 7, 9, 8, 7, 6, 9, 8, 7, 7, 10, 8, 10, 8, 6, 10, 9, 9, 10, 10, 8, 8, 10, 10, 10, 10, 8, 10, 7, 8, 10, 9, 10, 9]\n",
      "[10, 8, 10, 10, 5, 6, 9, 9, 10, 8, 9, 8, 10, 10, 6, 10, 10, 8, 6, 8, 6, 9, 7, 8, 10, 10, 7, 9, 10, 9, 10, 8, 10, 9, 7, 8, 9, 6, 6, 7, 8, 10, 8, 8, 6, 6, 7, 9, 8, 8, 10, 8, 6, 10, 10, 9, 9, 7, 8, 8, 9, 8, 7, 8, 6, 9, 9, 10, 8, 9, 6, 9, 8, 7, 6, 8, 9, 10, 10, 8, 9, 10, 8, 10, 9, 6, 9, 10, 9, 8, 9, 9, 10, 10, 8, 6, 7, 8, 10, 8]\n"
     ]
    },
    {
     "name": "stderr",
     "output_type": "stream",
     "text": [
      "\r\n",
      " 73%|████████████████████████████████            | 8/11 [03:38<01:22, 27.35s/it]"
     ]
    },
    {
     "name": "stdout",
     "output_type": "stream",
     "text": [
      "[7, 9, 8, 7, 9, 9, 8, 7, 7, 8, 9, 9, 9, 7, 7, 9, 8, 6, 8, 8, 9, 7, 9, 9, 9, 6, 7, 9, 8, 7, 9, 7, 7, 8, 6, 9, 9, 8, 10, 8, 8, 9, 9, 8, 10, 8, 9, 9, 9, 7, 7, 8, 9, 8, 9, 8, 7, 7, 8, 8, 8, 7, 7, 9, 7, 9, 8, 7, 7, 9, 7, 9, 9, 7, 9, 7, 9, 7, 8, 8, 8, 9, 8, 8, 10, 9, 7, 8, 9, 9, 7, 7, 7, 9, 10, 9, 9, 10, 8, 9]\n",
      "[10, 10, 5, 10, 10, 8, 8, 8, 10, 10, 10, 10, 6, 9, 8, 10, 10, 10, 6, 6, 10, 8, 10, 6, 10, 10, 8, 10, 8, 6, 10, 7, 10, 9, 10, 9, 10, 8, 9, 6, 8, 10, 10, 8, 9, 7, 6, 10, 6, 7, 6, 8, 7, 6, 6, 8, 8, 10, 10, 8, 8, 8, 6, 10, 7, 8, 10, 10, 10, 10, 10, 10, 8, 6, 8, 9, 10, 10, 7, 8, 10, 8, 9, 10, 10, 10, 6, 6, 10, 8, 10, 8, 8, 10, 10, 10, 7, 6, 6, 8]\n",
      "[8, 10, 10, 10, 10, 8, 9, 10, 7, 10, 8, 9, 8, 9, 10, 10, 10, 7, 6, 10, 10, 8, 10, 8, 10, 10, 10, 9, 8, 10, 6, 10, 10, 10, 8, 6, 10, 8, 8, 10, 10, 6, 7, 8, 7, 10, 10, 7, 8, 8, 9, 10, 6, 8, 10, 6, 10, 7, 10, 8, 9, 7, 6, 10, 6, 8, 9, 10, 7, 7, 10, 10, 10, 6, 9, 10, 10, 10, 6, 10, 7, 10, 8, 10, 10, 8, 6, 10, 9, 7, 8, 9, 6, 10, 8, 7, 9, 9, 10, 7]\n",
      "[10, 10, 6, 10, 10, 10, 10, 10, 7, 9, 7, 8, 10, 9, 10, 7, 10, 10, 10, 9, 9, 10, 6, 10, 10, 10, 9, 10, 8, 9, 10, 6, 10, 10, 8, 7, 10, 9, 8, 6, 10, 10, 9, 9, 9, 9, 8, 8, 7, 10, 10, 10, 7, 8, 10, 10, 8, 6, 10, 10, 10, 10, 7, 10, 10, 10, 8, 9, 9, 6, 8, 10, 8, 9, 9, 8, 8, 10, 7, 10, 10, 7, 10, 8, 8, 10, 10, 10, 10, 6, 6, 7, 6, 10, 10, 9, 9, 9, 10, 10]\n",
      "[10, 9, 10, 6, 8, 9, 8, 10, 10, 10, 10, 9, 10, 10, 8, 10, 10, 7, 7, 8, 10, 9, 10, 9, 8, 10, 6, 7, 8, 10, 10, 10, 9, 10, 10, 10, 6, 6, 10, 10, 9, 7, 9, 8, 10, 10, 9, 8, 10, 10, 6, 9, 9, 7, 8, 10, 10, 9, 8, 8, 8, 10, 7, 10, 10, 9, 10, 10, 8, 10, 8, 10, 9, 6, 10, 10, 10, 10, 8, 10, 8, 9, 9, 10, 9, 9, 8, 8, 10, 9, 8, 10, 10, 7, 8, 10, 8, 8, 10, 10]\n"
     ]
    },
    {
     "name": "stderr",
     "output_type": "stream",
     "text": [
      "\r\n",
      " 82%|████████████████████████████████████        | 9/11 [04:05<00:54, 27.24s/it]"
     ]
    },
    {
     "name": "stdout",
     "output_type": "stream",
     "text": [
      "[10, 9, 9, 10, 9, 8, 7, 10, 10, 9, 10, 9, 10, 8, 9, 8, 9, 9, 10, 7, 10, 9, 9, 9, 8, 10, 10, 7, 10, 9, 9, 8, 9, 8, 10, 8, 7, 10, 7, 7, 8, 10, 8, 9, 8, 10, 10, 9, 10, 9, 8, 10, 8, 8, 9, 10, 9, 9, 9, 8, 10, 10, 10, 10, 9, 10, 10, 10, 10, 8, 9, 10, 8, 8, 10, 8, 10, 9, 9, 8, 10, 9, 9, 10, 8, 10, 10, 8, 9, 10, 10, 8, 10, 10, 8, 9, 10, 10, 9, 9]\n",
      "[10, 10, 10, 10, 10, 10, 10, 10, 10, 10, 10, 10, 10, 10, 9, 10, 10, 10, 10, 10, 10, 10, 10, 10, 10, 10, 10, 8, 9, 10, 10, 10, 10, 10, 10, 10, 10, 10, 10, 10, 10, 10, 8, 10, 10, 10, 10, 10, 10, 10, 10, 10, 10, 10, 8, 10, 10, 10, 8, 10, 10, 10, 10, 10, 10, 10, 10, 10, 10, 10, 9, 10, 10, 10, 10, 10, 10, 10, 10, 10, 10, 10, 10, 10, 10, 10, 10, 10, 10, 10, 10, 10, 10, 10, 10, 10, 10, 9, 10, 10]\n",
      "[10, 10, 10, 10, 10, 10, 10, 10, 10, 10, 10, 10, 10, 10, 10, 10, 10, 10, 10, 10, 10, 10, 10, 10, 10, 10, 10, 10, 10, 10, 10, 10, 10, 10, 10, 10, 10, 10, 10, 10, 10, 10, 10, 10, 10, 10, 10, 10, 10, 10, 10, 10, 10, 10, 10, 10, 10, 10, 10, 10, 10, 10, 10, 10, 8, 10, 10, 9, 9, 10, 10, 10, 10, 10, 10, 10, 10, 10, 10, 10, 10, 10, 10, 9, 10, 10, 10, 10, 10, 10, 10, 10, 10, 10, 10, 10, 10, 10, 10, 10]\n",
      "[10, 10, 10, 10, 10, 10, 10, 10, 10, 10, 10, 10, 10, 10, 10, 10, 10, 10, 10, 10, 10, 10, 10, 10, 10, 10, 10, 10, 10, 10, 10, 10, 10, 10, 10, 10, 10, 10, 10, 10, 10, 10, 10, 10, 10, 10, 10, 10, 10, 10, 10, 10, 10, 10, 10, 10, 10, 10, 10, 10, 10, 10, 10, 10, 10, 9, 10, 10, 9, 10, 10, 10, 10, 10, 10, 10, 10, 10, 10, 10, 10, 10, 10, 10, 10, 10, 10, 10, 10, 10, 10, 10, 10, 10, 10, 10, 10, 10, 10, 10]\n",
      "[10, 10, 10, 10, 10, 10, 10, 10, 10, 10, 10, 10, 10, 10, 10, 10, 10, 10, 10, 10, 10, 10, 9, 10, 10, 10, 10, 10, 10, 10, 10, 10, 10, 10, 10, 10, 10, 10, 10, 10, 10, 10, 10, 10, 10, 10, 10, 10, 10, 10, 10, 10, 10, 10, 10, 10, 10, 9, 10, 10, 10, 10, 10, 10, 10, 10, 9, 10, 10, 10, 10, 10, 10, 10, 10, 10, 10, 10, 10, 10, 10, 10, 10, 10, 9, 9, 10, 10, 9, 9, 10, 10, 10, 10, 10, 10, 10, 10, 10, 10]\n"
     ]
    },
    {
     "name": "stderr",
     "output_type": "stream",
     "text": [
      "\r\n",
      " 91%|███████████████████████████████████████    | 10/11 [04:32<00:27, 27.19s/it]"
     ]
    },
    {
     "name": "stdout",
     "output_type": "stream",
     "text": [
      "[10, 9, 10, 10, 10, 9, 10, 10, 10, 10, 10, 10, 9, 10, 10, 10, 10, 9, 10, 9, 10, 10, 10, 10, 10, 10, 10, 10, 10, 10, 10, 10, 10, 10, 10, 10, 10, 10, 10, 10, 10, 10, 10, 10, 10, 10, 10, 10, 10, 10, 10, 10, 10, 10, 10, 10, 9, 9, 10, 10, 10, 10, 10, 10, 10, 10, 10, 10, 10, 10, 10, 10, 10, 10, 10, 10, 10, 10, 10, 8, 10, 10, 10, 10, 10, 10, 10, 9, 10, 10, 10, 10, 10, 10, 10, 10, 10, 10, 10, 10]\n",
      "[10, 10, 10, 10, 10, 10, 10, 10, 10, 10, 10, 10, 10, 10, 10, 10, 10, 10, 10, 10, 10, 10, 10, 10, 10, 10, 10, 10, 10, 10, 10, 10, 10, 10, 10, 10, 10, 10, 10, 10, 10, 10, 10, 10, 10, 10, 10, 10, 10, 10, 10, 10, 10, 10, 10, 10, 10, 10, 10, 10, 10, 10, 10, 10, 10, 10, 10, 10, 10, 10, 10, 10, 10, 10, 10, 10, 10, 10, 10, 10, 10, 10, 10, 10, 10, 10, 10, 10, 10, 10, 10, 10, 10, 10, 10, 10, 10, 10, 10, 10]\n",
      "[10, 10, 10, 10, 10, 10, 10, 10, 10, 10, 10, 10, 10, 10, 10, 10, 10, 10, 10, 10, 10, 10, 10, 10, 10, 10, 10, 10, 10, 10, 10, 10, 10, 10, 10, 10, 10, 10, 10, 10, 10, 10, 10, 10, 10, 10, 10, 10, 10, 10, 10, 10, 10, 10, 10, 10, 10, 10, 10, 10, 10, 10, 10, 10, 10, 10, 10, 10, 10, 10, 10, 10, 10, 10, 10, 10, 10, 10, 10, 10, 10, 10, 10, 10, 10, 10, 10, 10, 10, 10, 10, 10, 10, 10, 10, 10, 10, 10, 10, 10]\n",
      "[10, 10, 10, 10, 10, 10, 10, 10, 10, 10, 10, 10, 10, 10, 10, 10, 10, 10, 10, 10, 10, 10, 10, 10, 10, 10, 10, 10, 10, 10, 10, 10, 10, 10, 10, 10, 10, 10, 10, 10, 10, 10, 10, 10, 10, 10, 10, 10, 10, 10, 10, 10, 10, 10, 10, 10, 10, 10, 10, 10, 10, 10, 10, 10, 10, 10, 10, 10, 10, 10, 10, 10, 10, 10, 10, 10, 10, 10, 10, 10, 10, 10, 10, 10, 10, 10, 10, 10, 10, 10, 10, 10, 10, 10, 10, 10, 10, 10, 10, 10]\n",
      "[10, 10, 10, 10, 10, 10, 10, 10, 10, 10, 10, 10, 10, 10, 10, 10, 10, 10, 10, 10, 10, 10, 10, 10, 10, 10, 10, 10, 10, 10, 10, 10, 10, 10, 10, 10, 10, 10, 10, 10, 10, 10, 10, 10, 10, 10, 10, 10, 10, 10, 10, 10, 10, 10, 10, 10, 10, 10, 10, 10, 10, 10, 10, 10, 10, 10, 10, 10, 10, 10, 10, 10, 10, 10, 10, 10, 10, 10, 10, 10, 10, 10, 10, 10, 10, 10, 10, 10, 10, 10, 10, 10, 10, 10, 10, 10, 10, 10, 10, 10]\n"
     ]
    },
    {
     "name": "stderr",
     "output_type": "stream",
     "text": [
      "100%|███████████████████████████████████████████| 11/11 [05:00<00:00, 27.29s/it]"
     ]
    },
    {
     "name": "stdout",
     "output_type": "stream",
     "text": [
      "[10, 10, 10, 10, 10, 10, 10, 10, 10, 10, 10, 10, 10, 10, 10, 10, 10, 10, 10, 10, 10, 10, 10, 10, 10, 10, 10, 10, 10, 10, 10, 10, 10, 10, 10, 10, 10, 10, 10, 10, 10, 10, 10, 10, 10, 10, 10, 10, 10, 10, 10, 10, 10, 10, 10, 10, 10, 10, 10, 10, 10, 10, 10, 10, 10, 10, 10, 10, 10, 10, 10, 10, 10, 10, 10, 10, 10, 10, 10, 10, 10, 10, 10, 10, 10, 10, 10, 10, 10, 10, 10, 10, 10, 10, 10, 10, 10, 10, 10, 10]\n"
     ]
    },
    {
     "name": "stderr",
     "output_type": "stream",
     "text": [
      "\n"
     ]
    }
   ],
   "source": [
    "import tqdm \n",
    "\n",
    "radial_values = [[0 for j in range(len(possible_noise))] for i in range(len(possible_kernel))]\n",
    "for i in tqdm.tqdm(range(len(possible_kernel))):\n",
    "    for j in range(len(possible_noise)):\n",
    "        radial_values[i][j] = radial_count_different_centers_wrap(num=100, noise_weight=possible_noise[j], \n",
    "                                                    svgd_repulsive_weight=possible_kernel[i])\n"
   ]
  },
  {
   "cell_type": "code",
   "execution_count": 123,
   "id": "d06d3844",
   "metadata": {},
   "outputs": [
    {
     "data": {
      "image/png": "[encoded data removed]",
      "text/plain": [
       "<Figure size 576x432 with 3 Axes>"
      ]
     },
     "metadata": {
      "needs_background": "light"
     },
     "output_type": "display_data"
    }
   ],
   "source": [
    "import matplotlib.pyplot as plt\n",
    "radial_values_reversed = list(reversed([list(reversed(v)) for v in radial_values]))\n",
    "\n",
    "plt.rcParams[\"figure.figsize\"] = (8,6)\n",
    "fig, ax = plt.subplots(1, 2)\n",
    "\n",
    "# Add colorbar\n",
    "im = ax[1].imshow(radial_values_reversed, vmin=6.3, vmax=10, aspect='auto')\n",
    "ax[1].set_xlabel(\"Noise weight\", fontsize=14)\n",
    "ax[1].set_xticks(np.arange(0, len(possible_noise), 2), labels = [f'{s:.3}' for s in list(reversed(possible_noise[::2]))], fontsize=14)\n",
    "ax[1].set_yticks([])\n",
    "ax[1].set_title(\"Cyclical kernel\", fontsize=14)\n",
    "\n",
    "values_reversed = list(reversed([list(reversed(v)) for v in values]))\n",
    "im = ax[0].imshow(values_reversed, vmin=6.3, vmax=10, aspect='auto')\n",
    "ax[0].set_xticks(np.arange(0, len(possible_noise), 2), labels = [f'{s:.3}' for s in list(reversed(possible_noise[::2]))], fontsize=14)\n",
    "ax[0].set_yticks(np.arange(0, len(possible_kernel), 2), labels=[f'{s:.3}' for s in list(reversed(possible_kernel[::2]))], fontsize=14)\n",
    "ax[0].set_ylabel(\"Repulsion weight\", fontsize=14)\n",
    "ax[0].set_xlabel(\"Noise weight\", fontsize=14)\n",
    "ax[0].set_title(\"Euclidean kernel\", fontsize=14)\n",
    "\n",
    "#ax[0].add_patch(plt.Circle((0.02, 10.04), radius=0.15, color='red'))\n",
    "\n",
    "cbar_ax = fig.add_axes([0.95, 0.15, 0.05, 0.7])\n",
    "cbar = fig.colorbar(im, cax=cbar_ax)\n",
    "for t in cbar.ax.get_yticklabels():\n",
    "     t.set_fontsize(14)\n",
    "plt.savefig('2d_efficiency.png')\n",
    "plt.show()\n"
   ]
  },
  {
   "cell_type": "code",
   "execution_count": null,
   "id": "bca26b9d",
   "metadata": {},
   "outputs": [],
   "source": []
  }
 ],
 "metadata": {
  "kernelspec": {
   "display_name": "particle_guidance",
   "language": "python",
   "name": "python3"
  },
  "language_info": {
   "codemirror_mode": {
    "name": "ipython",
    "version": 3
   },
   "file_extension": ".py",
   "mimetype": "text/x-python",
   "name": "python",
   "nbconvert_exporter": "python",
   "pygments_lexer": "ipython3",
   "version": "3.9.19"
  }
 },
 "nbformat": 4,
 "nbformat_minor": 5
}
